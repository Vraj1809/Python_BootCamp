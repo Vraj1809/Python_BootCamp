{
 "cells": [
  {
   "cell_type": "markdown",
   "metadata": {},
   "source": [
    "___\n",
    "\n",
    "<a href='https://www.udemy.com/user/joseportilla/'><img src='../../Pierian_Data_Logo.png'/></a>\n",
    "___\n",
    "<center><em>Content Copyright by Pierian Data</em></center>"
   ]
  },
  {
   "cell_type": "markdown",
   "metadata": {},
   "source": [
    "# Advanced Modules Exercise Puzzle\n",
    "\n",
    "It's time to test your new skills, this puzzle project will combine multiple skills sets, including unzipping files with Python, using os module to automatically search through lots of files.\n",
    "\n",
    "## Your Goal\n",
    "\n",
    "This is a puzzle, so we don't want to give you too much guidance and instead have you figure out things on your own.\n",
    "\n",
    "There is a .zip file called 'unzip_me_for_instructions.zip', unzip it, open the .txt file with Python, read the instructions and see if you can figure out what you need to do!\n",
    "\n",
    "**If you get stuck or don't know where to start, here is a [guide/hints](https://docs.google.com/document/d/1JxydUr4n4fSR0EwwuwT-aHia-yPK6r-oTBuVT2sqheo/edit?usp=sharing)**"
   ]
  },
  {
   "cell_type": "code",
   "execution_count": 1,
   "metadata": {},
   "outputs": [],
   "source": [
    "import shutil\n",
    "\n",
    "Unzipped_instruction = \"Unzipped_Instruction\"\n",
    "\n",
    "shutil.unpack_archive(\"unzip_me_for_instructions.zip\", Unzipped_instruction, 'zip')\n"
   ]
  },
  {
   "cell_type": "code",
   "execution_count": 4,
   "metadata": {},
   "outputs": [
    {
     "data": {
      "text/plain": [
       "'c:\\\\Users\\\\VrajDesai\\\\Desktop\\\\ML_AI_Course\\\\Python_BootCamp\\\\Advanced Python Modules\\\\Advanced_Module_Excercise'"
      ]
     },
     "execution_count": 4,
     "metadata": {},
     "output_type": "execute_result"
    }
   ],
   "source": [
    "pwd"
   ]
  },
  {
   "cell_type": "code",
   "execution_count": 7,
   "metadata": {},
   "outputs": [
    {
     "name": "stdout",
     "output_type": "stream",
     "text": [
      "Good work on unzipping the file!\n",
      "\n",
      "You should now see 5 folders, each with a lot of random .txt files.\n",
      "\n",
      "Within one of these text files is a telephone number formated ###-###-#### \n",
      "\n",
      "Use the Python os module and regular expressions to iterate through each file, open it, and search for a telephone number.\n",
      "\n",
      "Good luck!\n"
     ]
    }
   ],
   "source": [
    "f = open('Unzipped_Instruction\\\\extracted_content\\\\Instructions.txt', 'r')\n",
    "for line in f.readlines():\n",
    "    print(line)\n",
    "f.close()"
   ]
  },
  {
   "cell_type": "code",
   "execution_count": 20,
   "metadata": {},
   "outputs": [
    {
     "data": {
      "text/plain": [
       "'c:\\\\Users\\\\VrajDesai\\\\Desktop\\\\ML_AI_Course\\\\Python_BootCamp\\\\Advanced Python Modules\\\\Advanced_Module_Excercise'"
      ]
     },
     "execution_count": 20,
     "metadata": {},
     "output_type": "execute_result"
    }
   ],
   "source": [
    "pwd"
   ]
  },
  {
   "cell_type": "code",
   "execution_count": 45,
   "metadata": {},
   "outputs": [
    {
     "data": {
      "text/plain": [
       "['123-456-7890']"
      ]
     },
     "execution_count": 45,
     "metadata": {},
     "output_type": "execute_result"
    }
   ],
   "source": [
    "# regular expression for the pattern\n",
    "import re\n",
    "\n",
    "text = \"fhrisng143236 123-456-7890gfjdg\"\n",
    "re.findall(r'\\d{3}-\\d{3}-\\d{4}', text)"
   ]
  },
  {
   "cell_type": "code",
   "execution_count": 47,
   "metadata": {},
   "outputs": [],
   "source": [
    "# FUNCTION TO TAKE THE FILE AND PATTERN AND SEARCHING THROUGH IT\n",
    "def search_number(file, pattern = r'\\d{3}-\\d{3}-\\d{4}'):\n",
    "    \n",
    "    f = open(file, 'r')\n",
    "    text = f.read()\n",
    "    \n",
    "    if re.findall(pattern, text):\n",
    "        return re.findall(pattern, text)\n",
    "    else:\n",
    "        return \" \""
   ]
  },
  {
   "cell_type": "code",
   "execution_count": 54,
   "metadata": {},
   "outputs": [
    {
     "name": "stdout",
     "output_type": "stream",
     "text": [
      "['719-266-2837']\n"
     ]
    }
   ],
   "source": [
    "import os\n",
    "for folder, sub_folder, files in os.walk(\"c:\\\\Users\\\\VrajDesai\\\\Desktop\\\\ML_AI_Course\\\\Python_BootCamp\\\\Advanced Python Modules\\\\Advanced_Module_Excercise\\\\Unzipped_Instruction\\\\extracted_content\"):\n",
    "    \n",
    "    result_list = []\n",
    "    \n",
    "    for file in files:        \n",
    "        full_path = folder + \"\\\\\" + file    \n",
    "        result = search_number(full_path)\n",
    "        result_list.append(result)\n",
    "        \n",
    "    \n",
    "    for result in result_list:\n",
    "        if result == \" \":\n",
    "            continue\n",
    "        else:\n",
    "            print(result)"
   ]
  }
 ],
 "metadata": {
  "anaconda-cloud": {},
  "kernelspec": {
   "display_name": "base",
   "language": "python",
   "name": "python3"
  },
  "language_info": {
   "codemirror_mode": {
    "name": "ipython",
    "version": 3
   },
   "file_extension": ".py",
   "mimetype": "text/x-python",
   "name": "python",
   "nbconvert_exporter": "python",
   "pygments_lexer": "ipython3",
   "version": "3.12.7"
  }
 },
 "nbformat": 4,
 "nbformat_minor": 2
}
