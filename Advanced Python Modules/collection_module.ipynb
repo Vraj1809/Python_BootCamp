{
 "cells": [
  {
   "cell_type": "code",
   "execution_count": 7,
   "metadata": {},
   "outputs": [
    {
     "name": "stdout",
     "output_type": "stream",
     "text": [
      "Counter({7: 2, 47: 2, 5: 2, 75: 2, 1: 1, 134: 1, 154: 1, 646: 1, 6: 1, 56: 1, 62464635: 1, 57: 1, 7457: 1, 5466: 1, 46: 1})\n",
      "Counter({'r': 9, 't': 6, 'h': 5, 'u': 5, 'o': 4, 'j': 3, 'k': 3, 'i': 3, 'f': 3, 's': 2, 'y': 2, 'g': 2, 'd': 2, 'c': 2, 'e': 2, 'n': 2, 'l': 1, 'w': 1, 'v': 1})\n",
      "Counter({'is': 3, 'Desai': 2, 'Helllo': 1, 'My': 1, 'namme': 1, 'Vraj': 1, 'Vipul': 1})\n"
     ]
    }
   ],
   "source": [
    "# Counter method\n",
    "\n",
    "from collections import Counter\n",
    "# RETURNS A DICTIONARYc SUBCLASS WHICH CONTAINS THE VALUES IN EACH LIST, CHARACTER IN EACH STRING, WORD IN EACH SENTENCE AS KEYS AND THIER OCCURANCE AS THE VALUES OF THAT KEY\n",
    "\n",
    "# with list\n",
    "list = [1,134,154,646,6,56,62464635,57,7,47,5,7,75,5,75,7457,47,5466,46]\n",
    "print(Counter(list))\n",
    "\n",
    "# wtih String\n",
    "String = \"rthsjtkyrrtrtukilujrrtugfdffhcjkiuyheuiorhwreotrhgosnodncv\"\n",
    "print(Counter(String))\n",
    "\n",
    "# with a sentennce\n",
    "String = \"Helllo My namme is is is Vraj Vipul Desai Desai\"\n",
    "words = String.split()\n",
    "print(Counter(words))"
   ]
  },
  {
   "cell_type": "code",
   "execution_count": 8,
   "metadata": {},
   "outputs": [
    {
     "ename": "KeyError",
     "evalue": "'one'",
     "output_type": "error",
     "traceback": [
      "\u001b[1;31m---------------------------------------------------------------------------\u001b[0m",
      "\u001b[1;31mKeyError\u001b[0m                                  Traceback (most recent call last)",
      "Cell \u001b[1;32mIn[8], line 6\u001b[0m\n\u001b[0;32m      1\u001b[0m \u001b[38;5;66;03m# DEFAULT DICTIONARY\u001b[39;00m\n\u001b[0;32m      2\u001b[0m  \u001b[38;5;66;03m# USED WHEN TO NEVER RAISE A KEYERROR. ANY KEY THAT DOESN'T  EXIST WOULD GET A DEFAULT VALUE\u001b[39;00m\n\u001b[0;32m      4\u001b[0m d \u001b[38;5;241m=\u001b[39m {}\n\u001b[1;32m----> 6\u001b[0m d[\u001b[38;5;124m'\u001b[39m\u001b[38;5;124mone\u001b[39m\u001b[38;5;124m'\u001b[39m]\n",
      "\u001b[1;31mKeyError\u001b[0m: 'one'"
     ]
    }
   ],
   "source": [
    "# DEFAULT DICTIONARY\n",
    " # USED WHEN TO NEVER RAISE A KEYERROR. ANY KEY THAT DOESN'T  EXIST WOULD GET A DEFAULT VALUE\n",
    "\n",
    "d = {}\n",
    "\n",
    "d['one']"
   ]
  },
  {
   "cell_type": "code",
   "execution_count": 11,
   "metadata": {},
   "outputs": [
    {
     "data": {
      "text/plain": [
       "10"
      ]
     },
     "execution_count": 11,
     "metadata": {},
     "output_type": "execute_result"
    }
   ],
   "source": [
    "from collections import defaultdict\n",
    "\n",
    "d = defaultdict(lambda: 10)\n",
    "\n",
    "d['vraj']\n"
   ]
  },
  {
   "cell_type": "code",
   "execution_count": 20,
   "metadata": {},
   "outputs": [
    {
     "name": "stdout",
     "output_type": "stream",
     "text": [
      "Dog(age=2, breed='Lab', name='Sammy')\n",
      "2\n",
      "Sammy\n"
     ]
    }
   ],
   "source": [
    "#named tuple - used for accessing values using named indexing \n",
    "\n",
    "# normal tuple value access\n",
    "\n",
    "tuple1 = (1,2,3,3,4,54,5,6,6,7)\n",
    "\n",
    "tuple1[0]\n",
    "\n",
    "# using namedtuple\n",
    "from collections import namedtuple\n",
    "\n",
    "Dog = namedtuple('Dog',['age','breed','name'])\n",
    "\n",
    "sam = Dog(age=2,breed='Lab',name='Sammy')\n",
    "\n",
    "frank = Dog(age=2,breed='Shepard',name=\"Frankie\")\n",
    "\n",
    "print(sam)\n",
    "\n",
    "print(sam.age)\n",
    "\n",
    "print(sam[2])"
   ]
  }
 ],
 "metadata": {
  "kernelspec": {
   "display_name": "base",
   "language": "python",
   "name": "python3"
  },
  "language_info": {
   "codemirror_mode": {
    "name": "ipython",
    "version": 3
   },
   "file_extension": ".py",
   "mimetype": "text/x-python",
   "name": "python",
   "nbconvert_exporter": "python",
   "pygments_lexer": "ipython3",
   "version": "3.12.7"
  }
 },
 "nbformat": 4,
 "nbformat_minor": 2
}
