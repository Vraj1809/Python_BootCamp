{
 "cells": [
  {
   "cell_type": "markdown",
   "metadata": {},
   "source": [
    "Time"
   ]
  },
  {
   "cell_type": "code",
   "execution_count": 2,
   "metadata": {},
   "outputs": [
    {
     "name": "stdout",
     "output_type": "stream",
     "text": [
      "The time: 04:20:01\n",
      "Hour: 4\n",
      "minutes: 20\n",
      "seconds: 1\n",
      "microsecond: 0\n",
      "tzinfo: None\n"
     ]
    }
   ],
   "source": [
    "import datetime\n",
    "\n",
    "t = datetime.time(4,20,1)\n",
    "\n",
    "print(f\"The time: {t}\")\n",
    "print(f\"Hour: {t.hour}\")\n",
    "print(f\"minutes: {t.minute}\")\n",
    "print(f\"seconds: {t.second}\")\n",
    "print(f\"microsecond: {t.microsecond}\")\n",
    "print(f\"tzinfo: {t.tzinfo}\")\n"
   ]
  },
  {
   "cell_type": "code",
   "execution_count": 4,
   "metadata": {},
   "outputs": [
    {
     "name": "stdout",
     "output_type": "stream",
     "text": [
      "Minimum Time: 00:00:00\n",
      "Maximum Time: 23:59:59.999999\n"
     ]
    }
   ],
   "source": [
    "print(f\"Minimum Time: {datetime.time.min}\")\n",
    "print(f\"Maximum Time: {datetime.time.max}\")"
   ]
  },
  {
   "cell_type": "markdown",
   "metadata": {},
   "source": [
    "Date"
   ]
  },
  {
   "cell_type": "code",
   "execution_count": 12,
   "metadata": {},
   "outputs": [
    {
     "name": "stdout",
     "output_type": "stream",
     "text": [
      "2024-12-31\n",
      "current time and date: Tue Dec 31 00:00:00 2024\n",
      "time tuple: time.struct_time(tm_year=2024, tm_mon=12, tm_mday=31, tm_hour=0, tm_min=0, tm_sec=0, tm_wday=1, tm_yday=366, tm_isdst=-1)\n",
      "Ordinal: 739251\n",
      "Year: 2024\n",
      "Month: 12\n",
      "Day: 31\n"
     ]
    }
   ],
   "source": [
    "today = datetime.date.today()\n",
    "\n",
    "print(today)\n",
    "\n",
    "print(f\"current time and date: {today.ctime()}\")\n",
    "\n",
    "print(f\"time tuple: {today.timetuple()}\")\n",
    "\n",
    "print(f\"Ordinal: {today.toordinal()}\")\n",
    "\n",
    "print(f\"Year: {today.year}\")\n",
    "\n",
    "print(f\"Month: {today.month}\")\n",
    "\n",
    "print(f\"Day: {today.day}\")\n",
    "\n",
    "\n"
   ]
  },
  {
   "cell_type": "code",
   "execution_count": 17,
   "metadata": {},
   "outputs": [
    {
     "name": "stdout",
     "output_type": "stream",
     "text": [
      "7671 days, 0:00:00\n"
     ]
    }
   ],
   "source": [
    "d2 = datetime.date(2024, 9, 18)\n",
    "d1 = datetime.date(2003, 9, 18)\n",
    "\n",
    "diff_days = d2 - d1\n",
    "\n",
    "print(diff_days)\n"
   ]
  },
  {
   "cell_type": "code",
   "execution_count": null,
   "metadata": {},
   "outputs": [],
   "source": []
  }
 ],
 "metadata": {
  "kernelspec": {
   "display_name": "base",
   "language": "python",
   "name": "python3"
  },
  "language_info": {
   "codemirror_mode": {
    "name": "ipython",
    "version": 3
   },
   "file_extension": ".py",
   "mimetype": "text/x-python",
   "name": "python",
   "nbconvert_exporter": "python",
   "pygments_lexer": "ipython3",
   "version": "3.12.7"
  }
 },
 "nbformat": 4,
 "nbformat_minor": 2
}
