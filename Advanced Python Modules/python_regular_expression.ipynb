{
 "cells": [
  {
   "cell_type": "code",
   "execution_count": null,
   "metadata": {},
   "outputs": [],
   "source": []
  },
  {
   "cell_type": "code",
   "execution_count": 9,
   "metadata": {},
   "outputs": [
    {
     "name": "stdout",
     "output_type": "stream",
     "text": [
      "Pattern in the text: <re.Match object; span=(3, 8), match='phone'>\n",
      "The span of the pattern is: (3, 8)\n",
      "The Start of the pattern is: 3\n",
      "The End of the pattern is: 8\n",
      "All of the patterns in the text: ['phone', 'phone'] and total number of matches: 2\n",
      "Location of the patterns within the text are:\n",
      "(3, 8)\n",
      "(18, 23)\n"
     ]
    }
   ],
   "source": [
    "import re\n",
    "\n",
    "text = \"My phone once, my phone twice\"\n",
    "\n",
    "# only gives the first occurance\n",
    "pattern = \"phone\"\n",
    "match = re.search(pattern, text)\n",
    "print(f\"Pattern in the text: {match}\")\n",
    "print(f\"The span of the pattern is: {match.span()}\")\n",
    "print(f\"The Start of the pattern is: {match.start()}\")\n",
    "print(f\"The End of the pattern is: {match.end()}\")\n",
    "\n",
    "# for all of the occurance of the pattern\n",
    "matches = re.findall(pattern, text)\n",
    "print(f\"All of the patterns in the text: {matches} and total number of matches: {len(matches)}\")\n",
    "\n",
    "#locations of the pattern in the text\n",
    "print(\"Location of the patterns within the text are:\")\n",
    "for match in re.finditer(pattern, text):\n",
    "    print(match.span())"
   ]
  },
  {
   "cell_type": "markdown",
   "metadata": {},
   "source": [
    "# PATTERNS\n",
    "\n",
    "## IDENTIFIERS FOR CHARACTERS IN PATTERNS\n",
    "\n",
    "Character\tDescription\tExample     Pattern Code\tExammple Match\n",
    " \\d\t          A digit\t             file_\\d\\d\t       file_25\n",
    " \\w\t          Alphanumeric\t         \\w-\\w\\w\\w\t        A-b_1\n",
    " \\s\t          White space\t         a\\sb\\sc\t        a b c\n",
    " \\D\t          A non digit\t         \\D\\D\\D\t            ABC\n",
    " \\W\t          Non-alphanumeric\t    \\W\\W\\W\\W\\W\t        *-+=)\n",
    " \\S\t          Non-whitespace\t     \\S\\S\\S\\S\t        Yoyo\n",
    "\n",
    "\n",
    "## QUANTIFIERS FOR CHARACTERS IN PATTERNS\n",
    "\n",
    "Character\t    Description\t         Example Pattern Code\tExammple Match\n",
    "+\t       Occurs one or more times\t  Version \\w-\\w+\t    Version A-b1_1\n",
    "{3}\t       Occurs exactly 3 times\t  \\D{3}\t                abc\n",
    "{2,4}\t   Occurs 2 to 4 times\t      \\d{2,4}\t            123\n",
    "{3,}\t   Occurs 3 or more\t          \\w{3,}\t            anycharacters\n",
    "\\*\t       Occurs zero or more times  A\\*B\\*C*\t            AAACC\n",
    "?\t       Once or none\t              plurals?\t            plural"
   ]
  },
  {
   "cell_type": "code",
   "execution_count": 21,
   "metadata": {},
   "outputs": [
    {
     "name": "stdout",
     "output_type": "stream",
     "text": [
      "<re.Match object; span=(19, 32), match='9511-071-5980'>\n",
      "9511-071-5980\n",
      "<re.Match object; span=(19, 32), match='9511-071-5980'>\n",
      "9511-071-5980\n"
     ]
    }
   ],
   "source": [
    "text = \"My phone number is 9511-071-5980\"\n",
    "\n",
    "# USING IDENTIFIERS\n",
    "phone = re.search(r'\\d\\d\\d\\d-\\d\\d\\d-\\d\\d\\d\\d', text)\n",
    "print(phone)\n",
    "# this would only match if the pattern is matched with the identifer but to find the actual text that matched with the pattern\n",
    "print(phone.group())\n",
    "\n",
    "#USING QUANTIFIERS\n",
    "phone = re.search(r'\\d{4}-\\d{3}-\\d{4}', text)\n",
    "print(phone)\n",
    "print(phone.group())"
   ]
  },
  {
   "cell_type": "code",
   "execution_count": 22,
   "metadata": {},
   "outputs": [
    {
     "ename": "IndexError",
     "evalue": "no such group",
     "output_type": "error",
     "traceback": [
      "\u001b[1;31m---------------------------------------------------------------------------\u001b[0m",
      "\u001b[1;31mIndexError\u001b[0m                                Traceback (most recent call last)",
      "Cell \u001b[1;32mIn[22], line 3\u001b[0m\n\u001b[0;32m      1\u001b[0m \u001b[38;5;66;03m# let's we have to find the pattern but as well as get the area code then the group is used but with the help of compile method, we can't just use group method\u001b[39;00m\n\u001b[1;32m----> 3\u001b[0m phone\u001b[38;5;241m.\u001b[39mgroup(\u001b[38;5;241m1\u001b[39m)\n",
      "\u001b[1;31mIndexError\u001b[0m: no such group"
     ]
    }
   ],
   "source": [
    "# let's we have to find the pattern but as well as get the area code then the group is used but with the help of compile method, we can't just use group method\n",
    "\n",
    "phone.group(1)"
   ]
  },
  {
   "cell_type": "code",
   "execution_count": 28,
   "metadata": {},
   "outputs": [
    {
     "name": "stdout",
     "output_type": "stream",
     "text": [
      "<re.Match object; span=(19, 32), match='9511-071-5980'>\n",
      "9511-071-5980\n",
      "9511\n",
      "071\n",
      "5980\n"
     ]
    },
    {
     "ename": "IndexError",
     "evalue": "no such group",
     "output_type": "error",
     "traceback": [
      "\u001b[1;31m---------------------------------------------------------------------------\u001b[0m",
      "\u001b[1;31mIndexError\u001b[0m                                Traceback (most recent call last)",
      "Cell \u001b[1;32mIn[28], line 10\u001b[0m\n\u001b[0;32m      8\u001b[0m \u001b[38;5;28mprint\u001b[39m(match\u001b[38;5;241m.\u001b[39mgroup(\u001b[38;5;241m2\u001b[39m))\n\u001b[0;32m      9\u001b[0m \u001b[38;5;28mprint\u001b[39m(match\u001b[38;5;241m.\u001b[39mgroup(\u001b[38;5;241m3\u001b[39m))\n\u001b[1;32m---> 10\u001b[0m \u001b[38;5;28mprint\u001b[39m(match\u001b[38;5;241m.\u001b[39mgroup(\u001b[38;5;241m4\u001b[39m))\n",
      "\u001b[1;31mIndexError\u001b[0m: no such group"
     ]
    }
   ],
   "source": [
    "phone_pattern = re.compile(r'(\\d{4})-(\\d{3})-(\\d{4})')\n",
    "\n",
    "match = re.search(phone_pattern, text)\n",
    "\n",
    "print(match)\n",
    "print(match.group())\n",
    "print(match.group(1)) # unlike index it starts with 1\n",
    "print(match.group(2))\n",
    "print(match.group(3))\n",
    "print(match.group(4))"
   ]
  },
  {
   "cell_type": "code",
   "execution_count": 31,
   "metadata": {},
   "outputs": [
    {
     "name": "stdout",
     "output_type": "stream",
     "text": [
      "<re.Match object; span=(6, 9), match='man'>\n",
      "<re.Match object; span=(5, 10), match='woman'>\n"
     ]
    }
   ],
   "source": [
    "# or operator |\n",
    "print(re.search(r\"man|woman\", \"This  man was here.\"))\n",
    "print(re.search(f\"man|woman\", \"This womann was here.\"))\n",
    "\n"
   ]
  },
  {
   "cell_type": "code",
   "execution_count": 39,
   "metadata": {},
   "outputs": [
    {
     "name": "stdout",
     "output_type": "stream",
     "text": [
      "['cat', 'hat', 'sat']\n",
      "['The bat', 'e splat']\n",
      "['bat', 'splat']\n"
     ]
    }
   ],
   "source": [
    "#wildcard character\n",
    "print(re.findall(r\".at\", \"The cat in the hat sat here.\"))\n",
    "\n",
    "print(re.findall(r'.....at', \"The bat with the splat\"))\n",
    "\n",
    "# \\S menas non-space characters and + means more than one times occurs before 'at'\n",
    "print(re.findall(r'\\S+at', \"The bat went splat\"))"
   ]
  },
  {
   "cell_type": "code",
   "execution_count": 40,
   "metadata": {},
   "outputs": [
    {
     "name": "stdout",
     "output_type": "stream",
     "text": [
      "['2']\n",
      "['1']\n"
     ]
    }
   ],
   "source": [
    "# ends with a number - $ symbol for ending\n",
    "print(re.findall(r'\\d$', 'This ends with a number 2'))\n",
    "\n",
    "# starts with a number - ^ symbol for starting \n",
    "print(re.findall(r'^\\d', \"1 is the first number\"))"
   ]
  },
  {
   "cell_type": "code",
   "execution_count": 47,
   "metadata": {},
   "outputs": [
    {
     "name": "stdout",
     "output_type": "stream",
     "text": [
      "['t', 'h', 'e', 'r', 'e', ' ', 'a', 'r', 'e', ' ', ' ', 'n', 'u', 'm', 'b', 'e', 'r', 's', ' ', ' ', 'i', 'n', 's', 'i', 'd', 'e', ' ', ' ', 't', 'h', 'i', 's', ' ', 's', 'e', 'n', 't', 'e', 'n', 'c', 'e', '.']\n",
      "['there are ', ' numbers ', ' inside ', ' this sentence.']\n",
      "['This', 'is', 'a', 'string', 'But', 'it', 'has', 'punctuation', 'How', 'can', 'we', 'remove', 'it']\n"
     ]
    },
    {
     "data": {
      "text/plain": [
       "'This is a string But it has punctuation How can we remove it'"
      ]
     },
     "execution_count": 47,
     "metadata": {},
     "output_type": "execute_result"
    }
   ],
   "source": [
    "# exclusion - [] in conjuction with ^ is used for this\n",
    "phrase = \"there are 3 numbers 34 inside 5 this sentence.\"\n",
    "\n",
    "# character by character\n",
    "print(re.findall(r'[^\\d]', phrase))\n",
    "\n",
    "# grouping the words before and after the number \n",
    "print(re.findall(r'[^\\d]+', phrase))\n",
    "\n",
    "# To remove puncuations exclusion is used\n",
    "test_phrase = 'This is a string! But it has punctuation. How can we remove it?'\n",
    "\n",
    "print(re.findall(r'[^!.? ]+', test_phrase))\n",
    "\n",
    "# to clean the sentennce \n",
    "\" \".join(re.findall(r'[^!.? ]+', test_phrase))"
   ]
  },
  {
   "cell_type": "code",
   "execution_count": 48,
   "metadata": {},
   "outputs": [
    {
     "data": {
      "text/plain": [
       "['hypen-words', 'long-ish']"
      ]
     },
     "execution_count": 48,
     "metadata": {},
     "output_type": "execute_result"
    }
   ],
   "source": [
    "# [] for grouping \n",
    "text = 'Only find the hypen-words in this sentence. But you do not know how long-ish they are'\n",
    "\n",
    "\n",
    "re.findall(r'[\\w]+-[\\w]+',text)"
   ]
  },
  {
   "cell_type": "code",
   "execution_count": 53,
   "metadata": {},
   "outputs": [
    {
     "name": "stdout",
     "output_type": "stream",
     "text": [
      "<re.Match object; span=(27, 34), match='catfish'>\n",
      "<re.Match object; span=(32, 38), match='catnap'>\n",
      "<re.Match object; span=(26, 37), match='caterpillar'>\n"
     ]
    }
   ],
   "source": [
    "# () parennthesis for muultiple options\n",
    "\n",
    "# Find words that start with cat and end with one of these options: 'fish','nap', or 'erpillar'\n",
    "text = 'Hello, would you like some catfish?'\n",
    "texttwo = \"Hello, would you like to take a catnap?\"\n",
    "textthree = \"Hello, have you seen this caterpillar?\"\n",
    "\n",
    "print(re.search(r'cat(fish|nap|erpillar)', text))\n",
    "print(re.search(r'cat(fish|nap|erpillar)', texttwo))\n",
    "print(re.search(r'cat(fish|nap|erpillar)', textthree))"
   ]
  }
 ],
 "metadata": {
  "kernelspec": {
   "display_name": "base",
   "language": "python",
   "name": "python3"
  },
  "language_info": {
   "codemirror_mode": {
    "name": "ipython",
    "version": 3
   },
   "file_extension": ".py",
   "mimetype": "text/x-python",
   "name": "python",
   "nbconvert_exporter": "python",
   "pygments_lexer": "ipython3",
   "version": "3.12.7"
  }
 },
 "nbformat": 4,
 "nbformat_minor": 2
}
