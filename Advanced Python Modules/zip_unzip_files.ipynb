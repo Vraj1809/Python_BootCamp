{
 "cells": [
  {
   "cell_type": "code",
   "execution_count": 3,
   "metadata": {},
   "outputs": [],
   "source": [
    "f = open('file1.txt','w+')\n",
    "f.write(\"This text is from File 1\")\n",
    "f.close()\n",
    "\n",
    "f = open('file2.txt', 'w+')\n",
    "f.write(\"This text is from File 2\")\n",
    "f.close()"
   ]
  },
  {
   "cell_type": "code",
   "execution_count": 4,
   "metadata": {},
   "outputs": [],
   "source": [
    "# ZIPPING FILE\n",
    "import zipfile\n",
    "\n",
    "# opening the zip file in write mode\n",
    "comp_file_zipfile = zipfile.ZipFile('comp_file_zipfile', 'w')\n",
    "\n",
    "# adding(writing) the file1 and file2 in that compress file\n",
    "comp_file_zipfile.write('file1.txt', compress_type=zipfile.ZIP_DEFLATED)\n",
    "comp_file_zipfile.write('file2.txt', compress_type=zipfile.ZIP_DEFLATED)\n",
    "\n",
    "comp_file_zipfile.close()\n",
    "\n"
   ]
  },
  {
   "cell_type": "code",
   "execution_count": 7,
   "metadata": {},
   "outputs": [],
   "source": [
    "# EXTRACTING FROM THE ZIP FILE\n",
    "\n",
    "#opening the zip file in reading mode \n",
    "zip_object = zipfile.ZipFile('comp_file_zipfile', 'r')\n",
    "\n",
    "# now, extracting all of the contents of the zip file into a single folder\n",
    "zip_object.extractall(\"Zip_Extracted_Content\")"
   ]
  },
  {
   "cell_type": "code",
   "execution_count": 9,
   "metadata": {},
   "outputs": [
    {
     "data": {
      "text/plain": [
       "'c:\\\\Users\\\\VrajDesai\\\\Desktop\\\\ML_AI_Course\\\\Python_BootCamp\\\\Advanced Python Modules'"
      ]
     },
     "execution_count": 9,
     "metadata": {},
     "output_type": "execute_result"
    }
   ],
   "source": [
    "pwd"
   ]
  },
  {
   "cell_type": "code",
   "execution_count": 17,
   "metadata": {},
   "outputs": [
    {
     "data": {
      "text/plain": [
       "'c:\\\\Users\\\\VrajDesai\\\\Desktop\\\\ML_AI_Course\\\\Python_BootCamp\\\\Advanced Python Modules\\\\Archive_file.zip'"
      ]
     },
     "execution_count": 17,
     "metadata": {},
     "output_type": "execute_result"
    }
   ],
   "source": [
    "# ARCHIVE FILES - USING SHUTIL LIBRARY\n",
    "\n",
    "import shutil\n",
    "\n",
    "#folder which we are going to archive\n",
    "folder_to_archive = 'c:\\\\Users\\\\VrajDesai\\\\Desktop\\\\ML_AI_Course\\\\Python_BootCamp\\\\Advanced Python Modules\\\\Zip_Extracted_Content'\n",
    "\n",
    "\n",
    "# folder/directory in which we are going to save the archive\n",
    "out_filename = 'Archive_file'\n",
    "shutil.make_archive(out_filename,'zip',folder_to_archive)\n"
   ]
  },
  {
   "cell_type": "code",
   "execution_count": 18,
   "metadata": {},
   "outputs": [],
   "source": [
    "#unpacking the archive folder\n",
    "dir_for_unpack_archive = 'Unpacked_Archived'\n",
    "shutil.unpack_archive('Archive_file.zip', dir_for_unpack_archive, 'zip')"
   ]
  },
  {
   "cell_type": "code",
   "execution_count": null,
   "metadata": {},
   "outputs": [],
   "source": []
  }
 ],
 "metadata": {
  "kernelspec": {
   "display_name": "base",
   "language": "python",
   "name": "python3"
  },
  "language_info": {
   "codemirror_mode": {
    "name": "ipython",
    "version": 3
   },
   "file_extension": ".py",
   "mimetype": "text/x-python",
   "name": "python",
   "nbconvert_exporter": "python",
   "pygments_lexer": "ipython3",
   "version": "3.12.7"
  }
 },
 "nbformat": 4,
 "nbformat_minor": 2
}
