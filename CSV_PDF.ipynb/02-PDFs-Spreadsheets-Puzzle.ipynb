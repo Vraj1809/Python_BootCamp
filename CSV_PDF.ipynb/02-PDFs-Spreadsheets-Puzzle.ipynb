{
 "cells": [
  {
   "cell_type": "markdown",
   "metadata": {},
   "source": [
    "___\n",
    "\n",
    "<a href='https://www.udemy.com/user/joseportilla/'><img src='../Pierian_Data_Logo.png'/></a>\n",
    "___\n",
    "<center><em>Content Copyright by Pierian Data</em></center>"
   ]
  },
  {
   "cell_type": "markdown",
   "metadata": {},
   "source": [
    "# PDFs and Spreadsheets Puzzle Exercise\n",
    "\n",
    "Let's test your skills, the files needed for this puzzle exercise\n",
    "\n",
    "You will need to work with two files for this exercise and solve the following tasks:\n",
    "\n",
    "* Task One: Use Python to extract the Google Drive link from the .csv file. (Hint: Its along the diagonal from top left to bottom right).\n",
    "* Task Two: Download the PDF from the Google Drive link (we already downloaded it for you just in case you can't download from Google Drive) and find the phone number that is in the document. Note: There are different ways of formatting a phone number!"
   ]
  },
  {
   "cell_type": "markdown",
   "metadata": {},
   "source": [
    "## Task One: Grab the Google Drive Link from .csv File"
   ]
  },
  {
   "cell_type": "code",
   "execution_count": 5,
   "metadata": {
    "collapsed": true
   },
   "outputs": [
    {
     "data": {
      "text/plain": [
       "'https://drive.google.com/open?id=1G6SEgg018UB4_4xsAJJ5TdzrhmXipr4Q'"
      ]
     },
     "execution_count": 5,
     "metadata": {},
     "output_type": "execute_result"
    }
   ],
   "source": [
    "import csv\n",
    "csv_file = open('find_the_link.csv',encoding=\"utf-8\")\n",
    "data_lines = csv.reader(csv_file)\n",
    "\n",
    "data_lines = list(data_lines)\n",
    "\n",
    "list_link = []\n",
    "i = 0\n",
    "for data_line in data_lines:\n",
    "    list_link.append(data_line[i])\n",
    "    i += 1\n",
    "    \n",
    "link = \"\"\n",
    "for w in list_link:\n",
    "    link = link + w\n",
    "\n",
    "link    \n"
   ]
  },
  {
   "cell_type": "markdown",
   "metadata": {},
   "source": [
    "## Task Two: Download the PDF from the Google Drive link and find the phone number that is in the document. "
   ]
  },
  {
   "cell_type": "code",
   "execution_count": null,
   "metadata": {
    "collapsed": true
   },
   "outputs": [
    {
     "data": {
      "text/plain": [
       "'505.503.4455'"
      ]
     },
     "execution_count": 24,
     "metadata": {},
     "output_type": "execute_result"
    }
   ],
   "source": [
    "# You should get this phone number\n",
    "# 505 503 4455\n",
    "\n",
    "import re\n",
    "import PyPDF2\n",
    "\n",
    "f = open('Find_the_Phone_Number.pdf', 'rb')\n",
    "\n",
    "pdf_reader = PyPDF2.PdfReader(f)\n",
    "\n",
    "len(pdf_reader.pages)\n",
    "\n",
    "all_page_data = \"\"\n",
    "for i in range(len(pdf_reader.pages)):\n",
    "    page = pdf_reader.pages[i]\n",
    "    page_data = page.extract_text()\n",
    "    all_page_data = all_page_data + page_data\n",
    "\n",
    "# print(all_page_data\n",
    "\n",
    "for num in re.finditer(r'\\d{3}', all_page_data):\n",
    "    print(num)\n",
    "    \n",
    "all_page_data[42905:42917]"
   ]
  },
  {
   "cell_type": "code",
   "execution_count": 27,
   "metadata": {},
   "outputs": [
    {
     "name": "stdout",
     "output_type": "stream",
     "text": [
      "505.503.4455\n"
     ]
    }
   ],
   "source": [
    "# after the getting the number [attern again running the regular expression code\n",
    "\n",
    "number = re.search(r'\\d{3}.\\d{3}.\\d{4}', all_page_data)\n",
    "\n",
    "print(number.group())"
   ]
  }
 ],
 "metadata": {
  "anaconda-cloud": {},
  "kernelspec": {
   "display_name": "base",
   "language": "python",
   "name": "python3"
  },
  "language_info": {
   "codemirror_mode": {
    "name": "ipython",
    "version": 3
   },
   "file_extension": ".py",
   "mimetype": "text/x-python",
   "name": "python",
   "nbconvert_exporter": "python",
   "pygments_lexer": "ipython3",
   "version": "3.12.7"
  }
 },
 "nbformat": 4,
 "nbformat_minor": 2
}
