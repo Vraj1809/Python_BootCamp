{
 "cells": [
  {
   "cell_type": "code",
   "execution_count": 2,
   "metadata": {},
   "outputs": [
    {
     "name": "stdout",
     "output_type": "stream",
     "text": [
      "{}\n",
      "{'__name__': '__main__', '__doc__': 'Automatically created module for IPython interactive environment', '__package__': None, '__loader__': None, '__spec__': None, '__builtin__': <module 'builtins' (built-in)>, '__builtins__': <module 'builtins' (built-in)>, '_ih': ['', '# Scope Review\\n\\nglobal_var = \"This is the Global Variable\"\\n\\ndef check_for_locals():\\n    print(locals())\\n    \\ncheck_for_locals()\\nglobals()', '# Scope Review\\n\\nglobal_var = \"This is the Global Variable\"\\n\\ndef check_for_locals():\\n    print(locals())\\n    \\ncheck_for_locals()\\nprint(globals())\\n\\nprint(globals().keys())'], '_oh': {1: {...}}, '_dh': [WindowsPath('c:/Users/VrajDesai/Desktop/ML_AI_Course/Python_BootCamp/Decorators')], 'In': ['', '# Scope Review\\n\\nglobal_var = \"This is the Global Variable\"\\n\\ndef check_for_locals():\\n    print(locals())\\n    \\ncheck_for_locals()\\nglobals()', '# Scope Review\\n\\nglobal_var = \"This is the Global Variable\"\\n\\ndef check_for_locals():\\n    print(locals())\\n    \\ncheck_for_locals()\\nprint(globals())\\n\\nprint(globals().keys())'], 'Out': {1: {...}}, 'get_ipython': <bound method InteractiveShell.get_ipython of <ipykernel.zmqshell.ZMQInteractiveShell object at 0x00000241076748F0>>, 'exit': <IPython.core.autocall.ZMQExitAutocall object at 0x0000024107674950>, 'quit': <IPython.core.autocall.ZMQExitAutocall object at 0x0000024107674950>, 'open': <function open at 0x000002410564FD80>, '_': {...}, '__': '', '___': '', '__vsc_ipynb_file__': 'c:\\\\Users\\\\VrajDesai\\\\Desktop\\\\ML_AI_Course\\\\Python_BootCamp\\\\Decorators\\\\decorators.ipynb', '_i': '# Scope Review\\n\\nglobal_var = \"This is the Global Variable\"\\n\\ndef check_for_locals():\\n    print(locals())\\n    \\ncheck_for_locals()\\nglobals()', '_ii': '', '_iii': '', '_i1': '# Scope Review\\n\\nglobal_var = \"This is the Global Variable\"\\n\\ndef check_for_locals():\\n    print(locals())\\n    \\ncheck_for_locals()\\nglobals()', 'global_var': 'This is the Global Variable', 'check_for_locals': <function check_for_locals at 0x00000241077F2340>, '_1': {...}, '_i2': '# Scope Review\\n\\nglobal_var = \"This is the Global Variable\"\\n\\ndef check_for_locals():\\n    print(locals())\\n    \\ncheck_for_locals()\\nprint(globals())\\n\\nprint(globals().keys())'}\n",
      "dict_keys(['__name__', '__doc__', '__package__', '__loader__', '__spec__', '__builtin__', '__builtins__', '_ih', '_oh', '_dh', 'In', 'Out', 'get_ipython', 'exit', 'quit', 'open', '_', '__', '___', '__vsc_ipynb_file__', '_i', '_ii', '_iii', '_i1', 'global_var', 'check_for_locals', '_1', '_i2'])\n"
     ]
    }
   ],
   "source": [
    "# Scope Review\n",
    "\n",
    "global_var = \"This is the Global Variable\"\n",
    "\n",
    "def check_for_locals():\n",
    "    print(locals())\n",
    "    \n",
    "check_for_locals()\n",
    "print(globals())\n",
    "\n",
    "print(globals().keys())"
   ]
  },
  {
   "cell_type": "code",
   "execution_count": 4,
   "metadata": {},
   "outputs": [
    {
     "data": {
      "text/plain": [
       "'This is the Global Variable'"
      ]
     },
     "execution_count": 4,
     "metadata": {},
     "output_type": "execute_result"
    }
   ],
   "source": [
    "globals()['global_var']"
   ]
  },
  {
   "cell_type": "code",
   "execution_count": 7,
   "metadata": {},
   "outputs": [
    {
     "name": "stdout",
     "output_type": "stream",
     "text": [
      "This is Hello Function\n"
     ]
    },
    {
     "ename": "NameError",
     "evalue": "name 'hello' is not defined",
     "output_type": "error",
     "traceback": [
      "\u001b[1;31m---------------------------------------------------------------------------\u001b[0m",
      "\u001b[1;31mNameError\u001b[0m                                 Traceback (most recent call last)",
      "Cell \u001b[1;32mIn[7], line 14\u001b[0m\n\u001b[0;32m      9\u001b[0m greet()\n\u001b[0;32m     11\u001b[0m \u001b[38;5;28;01mdel\u001b[39;00m hello\n\u001b[1;32m---> 14\u001b[0m hello()\n",
      "\u001b[1;31mNameError\u001b[0m: name 'hello' is not defined"
     ]
    }
   ],
   "source": [
    "# Everything in python is an object so checking it while working with function\n",
    "\n",
    "def hello():\n",
    "    print(\"This is Hello Function\")\n",
    "\n",
    "# while assinging a function to another variable or object we have only have to use function, don't have to use parenthesis at the end of function, cause if we do then the function would run there, this is also applicable when we are passing the function as a argument\n",
    "greet = hello\n",
    "\n",
    "greet()\n",
    "\n",
    "del hello\n",
    "\n",
    "\n",
    "hello()\n"
   ]
  },
  {
   "cell_type": "code",
   "execution_count": 8,
   "metadata": {},
   "outputs": [
    {
     "name": "stdout",
     "output_type": "stream",
     "text": [
      "This is Hello Function\n"
     ]
    }
   ],
   "source": [
    "# even if the hello functioin is deleted, the greet function still points towards the same original function object\n",
    "greet()"
   ]
  },
  {
   "cell_type": "code",
   "execution_count": 15,
   "metadata": {},
   "outputs": [
    {
     "name": "stdout",
     "output_type": "stream",
     "text": [
      "We are inside the all_func function\n",
      "\t We are inside the return_function which would be returned\n",
      "\t his is hello function passed as an argument to the all_func\n",
      "\t This is greet function which is defined inside the al_func\n"
     ]
    }
   ],
   "source": [
    "# FUNCTIONS WITHIN FUNCTIONS, PASSING FUNCTIONS AS ARGUMENT, RETURNING FUNCTIONS\n",
    "\n",
    "def hello():\n",
    "    print(\"\\t his is hello function passed as an argument to the all_func\")\n",
    "def all_func(hello):\n",
    "    \n",
    "    print(\"We are inside the all_func function\")\n",
    "    def greet():\n",
    "        print(\"\\t This is greet function which is defined inside the al_func\")\n",
    "    \n",
    "    def return_function():\n",
    "        print(\"\\t We are inside the return_function which would be returned\")\n",
    "        hello()\n",
    "        greet()\n",
    "        \n",
    "    return return_function()\n",
    "\n",
    "\n",
    "all_func(hello)"
   ]
  },
  {
   "cell_type": "code",
   "execution_count": 17,
   "metadata": {},
   "outputs": [
    {
     "name": "stdout",
     "output_type": "stream",
     "text": [
      "Code before the function that needs decorating\n",
      "This is function that needs decorating....\n",
      "code after the function that needs decorating\n",
      "The function fully decorated\n"
     ]
    }
   ],
   "source": [
    "# creating a Decorator\n",
    "\n",
    "# so the idea is that a function would be used as a decorator which would take a function which needs decorating\n",
    "# now there will be a wrap function which would wrap the argument function in some code or anything liike that basically decorating it and this wrap function would returned so the final output would be the decorated fuunction\n",
    "\n",
    "# without the use of @ symbol\n",
    "\n",
    "def decorator(func):\n",
    "    \n",
    "    def wrap_func():\n",
    "        print(\"Code before the function that needs decorating\")\n",
    "        \n",
    "        func()\n",
    "        \n",
    "        print(\"code after the function that needs decorating\")\n",
    "        \n",
    "        print(\"The function fully decorated\")\n",
    "        \n",
    "    return wrap_func\n",
    "\n",
    "def function_needs_decorating():\n",
    "    print(\"This is function that needs decorating....\")\n",
    "    \n",
    "decorated_function = decorator(function_needs_decorating)\n",
    "\n",
    "decorated_function()"
   ]
  },
  {
   "cell_type": "code",
   "execution_count": 18,
   "metadata": {},
   "outputs": [
    {
     "name": "stdout",
     "output_type": "stream",
     "text": [
      "Code before the function that needs decorating\n",
      "This is the 2nd function that needs decorating and for this the @ symbol is used\n",
      "code after the function that needs decorating\n",
      "The function fully decorated\n"
     ]
    }
   ],
   "source": [
    "# decorating with the use of @ symbol\n",
    "@decorator\n",
    "def func2_needs_decorating():\n",
    "    print(\"This is the 2nd function that needs decorating and for this the @ symbol is used\")\n",
    "    \n",
    "func2_needs_decorating()"
   ]
  },
  {
   "cell_type": "code",
   "execution_count": null,
   "metadata": {},
   "outputs": [],
   "source": []
  }
 ],
 "metadata": {
  "kernelspec": {
   "display_name": "base",
   "language": "python",
   "name": "python3"
  },
  "language_info": {
   "codemirror_mode": {
    "name": "ipython",
    "version": 3
   },
   "file_extension": ".py",
   "mimetype": "text/x-python",
   "name": "python",
   "nbconvert_exporter": "python",
   "pygments_lexer": "ipython3",
   "version": "3.12.7"
  }
 },
 "nbformat": 4,
 "nbformat_minor": 2
}
