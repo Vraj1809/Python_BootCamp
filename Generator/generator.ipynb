{
 "cells": [
  {
   "cell_type": "markdown",
   "metadata": {},
   "source": [
    "Generators:\n",
    "\n",
    "In most aspects, a generator function will appear very similar to a normal function. The main difference is when a generator function is compiled they become an object that supports an iteration protocol. That means when they are called in your code they don't actually return a value and then exit. Instead, generator functions will automatically suspend and resume their execution and state around the last point of value generation. The main advantage here is that instead of having to compute an entire series of values up front, the generator computes one value and then suspends its activity awaiting the next instruction. This feature is known as state suspension."
   ]
  },
  {
   "cell_type": "code",
   "execution_count": 2,
   "metadata": {},
   "outputs": [
    {
     "data": {
      "text/plain": [
       "[1, 1, 2, 3, 5, 8, 13, 21, 34, 55]"
      ]
     },
     "execution_count": 2,
     "metadata": {},
     "output_type": "execute_result"
    }
   ],
   "source": [
    "# normal function\n",
    "\n",
    "def fibon(n):\n",
    "    a = 1\n",
    "    b = 1\n",
    "    output = []\n",
    "    \n",
    "    for i in range(n):\n",
    "        output.append(a)\n",
    "        \n",
    "        # used so that both would be executed at the same time\n",
    "        a,b= b, a+b\n",
    "        \n",
    "    return output\n",
    "\n",
    "fibon(10)"
   ]
  },
  {
   "cell_type": "code",
   "execution_count": 5,
   "metadata": {},
   "outputs": [
    {
     "name": "stdout",
     "output_type": "stream",
     "text": [
      "1\n",
      "1\n",
      "2\n",
      "3\n",
      "5\n",
      "8\n",
      "13\n",
      "21\n",
      "34\n",
      "55\n"
     ]
    }
   ],
   "source": [
    "# generator function\n",
    "\n",
    "def fibon(n):\n",
    "    \n",
    "    a = 1\n",
    "    b = 1\n",
    "    \n",
    "    for i in range(n):\n",
    "        yield a\n",
    "        a,b = b, a+b\n",
    "    \n",
    "    \n",
    "for num in fibon(10):\n",
    "    print(num)"
   ]
  },
  {
   "cell_type": "code",
   "execution_count": 7,
   "metadata": {},
   "outputs": [
    {
     "name": "stdout",
     "output_type": "stream",
     "text": [
      "4895\n"
     ]
    }
   ],
   "source": [
    "# generators can be mainly used when pipeline - used to pipeline a series of operations\n",
    "\n",
    "# suppose we want to get the sum of square of the fibonacci numbers\n",
    "\n",
    "def fibonacci(num):\n",
    "    \n",
    "    a = 1\n",
    "    b = 1\n",
    "    \n",
    "    for i in range(num):\n",
    "        yield a\n",
    "        a, b = b, a+b\n",
    "        \n",
    "def square(nums):\n",
    "    for num in nums:\n",
    "        yield num**2\n",
    "    \n",
    "print(sum(square(fibonacci(10))))\n",
    "\n"
   ]
  },
  {
   "cell_type": "code",
   "execution_count": 14,
   "metadata": {},
   "outputs": [
    {
     "name": "stdout",
     "output_type": "stream",
     "text": [
      "0\n",
      "1\n",
      "2\n"
     ]
    },
    {
     "ename": "StopIteration",
     "evalue": "",
     "output_type": "error",
     "traceback": [
      "\u001b[1;31m---------------------------------------------------------------------------\u001b[0m",
      "\u001b[1;31mStopIteration\u001b[0m                             Traceback (most recent call last)",
      "Cell \u001b[1;32mIn[14], line 16\u001b[0m\n\u001b[0;32m     13\u001b[0m \u001b[38;5;28mprint\u001b[39m(\u001b[38;5;28mnext\u001b[39m(next_fun))\n\u001b[0;32m     15\u001b[0m \u001b[38;5;66;03m# here there are only 3 values so that it can only use next function three values now after they are completed it is givign error, where as in using for loop, it automatically catches this error and stops calling next function\u001b[39;00m\n\u001b[1;32m---> 16\u001b[0m \u001b[38;5;28mprint\u001b[39m(\u001b[38;5;28mnext\u001b[39m(next_fun))\n",
      "\u001b[1;31mStopIteration\u001b[0m: "
     ]
    }
   ],
   "source": [
    "# next() and iter() built-in function\n",
    "\n",
    "def next_func():\n",
    "    for i in range(3):\n",
    "        yield i\n",
    "\n",
    "next_fun = next_func()\n",
    "\n",
    "print(next(next_fun))\n",
    "\n",
    "print(next(next_fun))\n",
    "\n",
    "print(next(next_fun))\n",
    "\n",
    "# here there are only 3 values so that it can only use next function three values now after they are completed it is givign error, where as in using for loop, it automatically catches this error and stops calling next function\n",
    "print(next(next_fun))\n"
   ]
  },
  {
   "cell_type": "code",
   "execution_count": 18,
   "metadata": {},
   "outputs": [
    {
     "name": "stdout",
     "output_type": "stream",
     "text": [
      "h\n",
      "e\n",
      "l\n",
      "l\n",
      "o\n"
     ]
    },
    {
     "ename": "TypeError",
     "evalue": "'str' object is not an iterator",
     "output_type": "error",
     "traceback": [
      "\u001b[1;31m---------------------------------------------------------------------------\u001b[0m",
      "\u001b[1;31mTypeError\u001b[0m                                 Traceback (most recent call last)",
      "Cell \u001b[1;32mIn[18], line 8\u001b[0m\n\u001b[0;32m      4\u001b[0m \u001b[38;5;28;01mfor\u001b[39;00m let \u001b[38;5;129;01min\u001b[39;00m s:\n\u001b[0;32m      5\u001b[0m     \u001b[38;5;28mprint\u001b[39m(let)\n\u001b[1;32m----> 8\u001b[0m \u001b[38;5;28mnext\u001b[39m(s)\n",
      "\u001b[1;31mTypeError\u001b[0m: 'str' object is not an iterator"
     ]
    }
   ],
   "source": [
    "s = 'hello'\n",
    "\n",
    "#Iterate over string\n",
    "for let in s:\n",
    "    print(let)\n",
    "\n",
    "\n",
    "next(s)\n"
   ]
  },
  {
   "cell_type": "code",
   "execution_count": 20,
   "metadata": {},
   "outputs": [
    {
     "name": "stdout",
     "output_type": "stream",
     "text": [
      "h\n",
      "e\n"
     ]
    }
   ],
   "source": [
    "s_iter = iter(s)\n",
    "print(next(s_iter))\n",
    "print(next(s_iter))"
   ]
  }
 ],
 "metadata": {
  "kernelspec": {
   "display_name": "base",
   "language": "python",
   "name": "python3"
  },
  "language_info": {
   "codemirror_mode": {
    "name": "ipython",
    "version": 3
   },
   "file_extension": ".py",
   "mimetype": "text/x-python",
   "name": "python",
   "nbconvert_exporter": "python",
   "pygments_lexer": "ipython3",
   "version": "3.12.7"
  }
 },
 "nbformat": 4,
 "nbformat_minor": 2
}
