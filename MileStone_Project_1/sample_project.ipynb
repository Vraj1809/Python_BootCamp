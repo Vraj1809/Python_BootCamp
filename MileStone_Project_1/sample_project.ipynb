{
 "cells": [
  {
   "cell_type": "code",
   "execution_count": 1,
   "metadata": {},
   "outputs": [],
   "source": [
    "game_list = [0,1,2]\n",
    "def display_game(game_list):\n",
    "    print(\"The cureent List\")\n",
    "    print(game_list)"
   ]
  },
  {
   "cell_type": "code",
   "execution_count": 2,
   "metadata": {},
   "outputs": [],
   "source": [
    "from IPython.display import clear_output\n",
    "def position_choice():\n",
    "    pos = \"WRONG\"\n",
    "    \n",
    "    while pos not in ['0', '1', '2']:\n",
    "        pos = input(\"Enter at which position from [0, 1, 2] \")\n",
    "        \n",
    "        if pos not in ['0', '1', '2']:\n",
    "            clear_output()\n",
    "            print(\"Sorry, wrong format of input, please only give position from 0,1,2: \")\n",
    "            \n",
    "    return int(pos)\n",
    "    "
   ]
  },
  {
   "cell_type": "code",
   "execution_count": 3,
   "metadata": {},
   "outputs": [],
   "source": [
    "def replacement_choice(game_list, position):\n",
    "    user_placement = input(\"Type a string to place at the position: \")\n",
    "    \n",
    "    game_list[position] = user_placement\n",
    "    \n",
    "    return game_list"
   ]
  },
  {
   "cell_type": "code",
   "execution_count": 4,
   "metadata": {},
   "outputs": [],
   "source": [
    "def gameon_choice():\n",
    "    choice = \"WRONG\"\n",
    "    \n",
    "    while choice not in ['Y', 'N']:\n",
    "        choice = input(\"Enter yes or no if you want to continue the gamme in Y or N \")\n",
    "        \n",
    "        if choice not in ['Y', 'N']:\n",
    "            clear_output()\n",
    "            print(\"Sorry, wrong format of input, please only give answer in Y or N: \")\n",
    "            \n",
    "    if choice == \"Y\":\n",
    "        return True\n",
    "    else:\n",
    "        return False"
   ]
  },
  {
   "cell_type": "code",
   "execution_count": 6,
   "metadata": {},
   "outputs": [
    {
     "name": "stdout",
     "output_type": "stream",
     "text": [
      "The cureent List\n",
      "['Vraj', 1, 2]\n"
     ]
    }
   ],
   "source": [
    "game_on = True\n",
    "\n",
    "game_list = [0,1,2]\n",
    "\n",
    "while game_on:\n",
    "    clear_output() \n",
    "    display_game(game_list)\n",
    "\n",
    "    position = position_choice()\n",
    "\n",
    "    game_list = replacement_choice(game_list, position)\n",
    "    clear_output()\n",
    "\n",
    "    display_game(game_list)\n",
    "\n",
    "    game_on = gameon_choice()\n"
   ]
  },
  {
   "cell_type": "code",
   "execution_count": null,
   "metadata": {},
   "outputs": [],
   "source": []
  }
 ],
 "metadata": {
  "kernelspec": {
   "display_name": "base",
   "language": "python",
   "name": "python3"
  },
  "language_info": {
   "codemirror_mode": {
    "name": "ipython",
    "version": 3
   },
   "file_extension": ".py",
   "mimetype": "text/x-python",
   "name": "python",
   "nbconvert_exporter": "python",
   "pygments_lexer": "ipython3",
   "version": "3.12.7"
  }
 },
 "nbformat": 4,
 "nbformat_minor": 2
}
