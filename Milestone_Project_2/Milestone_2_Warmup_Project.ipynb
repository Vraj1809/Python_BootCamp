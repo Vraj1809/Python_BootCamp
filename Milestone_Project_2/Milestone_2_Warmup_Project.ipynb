{
 "cells": [
  {
   "cell_type": "markdown",
   "metadata": {
    "id": "yvecWBvd602a"
   },
   "source": [
    "# Single Card Class"
   ]
  },
  {
   "cell_type": "code",
   "execution_count": 4,
   "metadata": {
    "executionInfo": {
     "elapsed": 584,
     "status": "ok",
     "timestamp": 1735472449215,
     "user": {
      "displayName": "Lay Naik",
      "userId": "02664883309353394926"
     },
     "user_tz": -330
    },
    "id": "BgoBhiLI5dMW"
   },
   "outputs": [],
   "source": [
    "import random"
   ]
  },
  {
   "cell_type": "code",
   "execution_count": 5,
   "metadata": {
    "executionInfo": {
     "elapsed": 391,
     "status": "ok",
     "timestamp": 1735472456719,
     "user": {
      "displayName": "Lay Naik",
      "userId": "02664883309353394926"
     },
     "user_tz": -330
    },
    "id": "Y39uECxo67Co"
   },
   "outputs": [],
   "source": [
    "#list of suits so that we can make a full deck from this\n",
    "suits = [\"Spades\", \"Diamonds\",\"Clubs\", \"Hearts\"]\n",
    "\n",
    "# list of rank to make a full deck from both suits and ranks list combination\n",
    "ranks = ['Two', 'Three', 'Four', 'Five', 'Six', 'Seven', 'Eight', 'Nine', 'Ten', 'Jack', 'Queen', 'King', 'Ace']\n",
    "\n",
    "# dictionary of mapping of rank with their values so that in the game the comparison between two cards can be easily made\n",
    "# make sure that the key values of this dictionary are the same values as they are in ranks list\n",
    "values = {'Two':2, 'Three':3, 'Four':4, 'Five':5, 'Six':6, 'Seven':7, 'Eight':8, 'Nine':9, 'Ten':10, 'Jack':11, 'Queen':12, 'King':13, 'Ace':14}"
   ]
  },
  {
   "cell_type": "code",
   "execution_count": 6,
   "metadata": {
    "executionInfo": {
     "elapsed": 405,
     "status": "ok",
     "timestamp": 1735472458339,
     "user": {
      "displayName": "Lay Naik",
      "userId": "02664883309353394926"
     },
     "user_tz": -330
    },
    "id": "GnlaT9ao8_e4"
   },
   "outputs": [],
   "source": [
    "#creating the card class\n",
    "\n",
    "class Card:\n",
    "\n",
    "  #here we will only need suit and rank of that card cause the value would be easily fetched from the values dictionary with rank passing as the key\n",
    "  def __init__(self, suit, rank):\n",
    "    self.suit = suit\n",
    "    self.rank = rank\n",
    "    self.value = values[rank]\n",
    "\n",
    "  def __str__(self):\n",
    "    return f'{self.rank} of {self.suit}'\n",
    "\n"
   ]
  },
  {
   "cell_type": "code",
   "execution_count": 7,
   "metadata": {
    "colab": {
     "base_uri": "https://localhost:8080/"
    },
    "executionInfo": {
     "elapsed": 9,
     "status": "ok",
     "timestamp": 1735472459724,
     "user": {
      "displayName": "Lay Naik",
      "userId": "02664883309353394926"
     },
     "user_tz": -330
    },
    "id": "jVqlVgJf-C4W",
    "outputId": "346eafdd-5b8c-4902-d1ea-f19000484336"
   },
   "outputs": [
    {
     "name": "stdout",
     "output_type": "stream",
     "text": [
      "Two\n",
      "Hearts\n",
      "2\n",
      "Two of Hearts\n"
     ]
    }
   ],
   "source": [
    "#creating a Card object with manually passing information\n",
    "card1 = Card(\"Hearts\", \"Two\")\n",
    "\n",
    "print(card1.rank)\n",
    "print(card1.suit)\n",
    "print(card1.value)\n",
    "print(card1)"
   ]
  },
  {
   "cell_type": "code",
   "execution_count": 8,
   "metadata": {
    "colab": {
     "base_uri": "https://localhost:8080/"
    },
    "executionInfo": {
     "elapsed": 399,
     "status": "ok",
     "timestamp": 1735472462378,
     "user": {
      "displayName": "Lay Naik",
      "userId": "02664883309353394926"
     },
     "user_tz": -330
    },
    "id": "MFD-OJo_-ahe",
    "outputId": "383d6723-5e3e-4b82-a47f-9566719ef3e4"
   },
   "outputs": [
    {
     "name": "stdout",
     "output_type": "stream",
     "text": [
      "Seven\n",
      "Clubs\n",
      "7\n",
      "Seven of Clubs\n"
     ]
    }
   ],
   "source": [
    "#creating card with passing information from the lists of suits and ranks\n",
    "\n",
    "card2 = Card(suits[2], ranks[5])\n",
    "\n",
    "print(card2.rank)\n",
    "print(card2.suit)\n",
    "print(card2.value)\n",
    "print(card2)"
   ]
  },
  {
   "cell_type": "code",
   "execution_count": 9,
   "metadata": {
    "colab": {
     "base_uri": "https://localhost:8080/",
     "height": 176
    },
    "executionInfo": {
     "elapsed": 431,
     "status": "error",
     "timestamp": 1735472468715,
     "user": {
      "displayName": "Lay Naik",
      "userId": "02664883309353394926"
     },
     "user_tz": -330
    },
    "id": "qj7PO3J5-wcv",
    "outputId": "270fb366-ec07-4abe-d619-37997aadeea8"
   },
   "outputs": [
    {
     "ename": "TypeError",
     "evalue": "'<' not supported between instances of 'Card' and 'Card'",
     "output_type": "error",
     "traceback": [
      "\u001b[1;31m---------------------------------------------------------------------------\u001b[0m",
      "\u001b[1;31mTypeError\u001b[0m                                 Traceback (most recent call last)",
      "Cell \u001b[1;32mIn[9], line 3\u001b[0m\n\u001b[0;32m      1\u001b[0m \u001b[38;5;66;03m#now let's compare these two cards\u001b[39;00m\n\u001b[0;32m      2\u001b[0m \u001b[38;5;66;03m# can't compare directly cause of them being objects\u001b[39;00m\n\u001b[1;32m----> 3\u001b[0m card1 \u001b[38;5;241m<\u001b[39m card2\n",
      "\u001b[1;31mTypeError\u001b[0m: '<' not supported between instances of 'Card' and 'Card'"
     ]
    }
   ],
   "source": [
    "#now let's compare these two cards\n",
    "# can't compare directly cause of them being objects\n",
    "card1 < card2"
   ]
  },
  {
   "cell_type": "code",
   "execution_count": 10,
   "metadata": {
    "colab": {
     "base_uri": "https://localhost:8080/"
    },
    "executionInfo": {
     "elapsed": 361,
     "status": "ok",
     "timestamp": 1735472471768,
     "user": {
      "displayName": "Lay Naik",
      "userId": "02664883309353394926"
     },
     "user_tz": -330
    },
    "id": "O4qgXNNC-4c-",
    "outputId": "1003c6cf-879b-4f52-9ad6-f1f446005f32"
   },
   "outputs": [
    {
     "data": {
      "text/plain": [
       "True"
      ]
     },
     "execution_count": 10,
     "metadata": {},
     "output_type": "execute_result"
    }
   ],
   "source": [
    "card1.value < card2.value"
   ]
  },
  {
   "cell_type": "markdown",
   "metadata": {
    "id": "2Abm0y8f_DD7"
   },
   "source": [
    "# Deck Class"
   ]
  },
  {
   "cell_type": "code",
   "execution_count": 11,
   "metadata": {
    "executionInfo": {
     "elapsed": 369,
     "status": "ok",
     "timestamp": 1735472474202,
     "user": {
      "displayName": "Lay Naik",
      "userId": "02664883309353394926"
     },
     "user_tz": -330
    },
    "id": "Wyi7Hydh-_lu"
   },
   "outputs": [],
   "source": [
    "#now creating a deck class to make a deck of 52 cards like real life, with the help of card class\n",
    "\n",
    "class Deck:\n",
    "\n",
    "  # nothing would be passed here when creating a new deck cause the deck would be always the same with 52 cards\n",
    "  #we will take a instance variable as a list and use the for loop and Card class to append new cards to this list\n",
    "  def __init__(self):\n",
    "    self.all_cards = []\n",
    "\n",
    "    for suit in suits:\n",
    "      for rank in ranks:\n",
    "        self.all_cards.append(Card(suit,rank))\n",
    "\n",
    "  #we have to shuffle the deck, so the shuffle method\n",
    "  def shuffle(self):\n",
    "    # random.shuffle method is shuffling the list in-place so no list would be returning\n",
    "    random.shuffle(self.all_cards)\n",
    "\n",
    "  # method to choose card from the deck from the up that means from the start\n",
    "  def deal_one(self):\n",
    "    return self.all_cards.pop(0)\n",
    "\n",
    "  #__len__ method to return the length of the deck which would be of the length of all_cards list\n",
    "  def __len__(self):\n",
    "    return len(self.all_cards)"
   ]
  },
  {
   "cell_type": "code",
   "execution_count": 12,
   "metadata": {
    "colab": {
     "base_uri": "https://localhost:8080/"
    },
    "executionInfo": {
     "elapsed": 8,
     "status": "ok",
     "timestamp": 1735472477309,
     "user": {
      "displayName": "Lay Naik",
      "userId": "02664883309353394926"
     },
     "user_tz": -330
    },
    "id": "vaQrro8WALtX",
    "outputId": "5178398d-be2d-4787-ffa7-b3c931938edb"
   },
   "outputs": [
    {
     "name": "stdout",
     "output_type": "stream",
     "text": [
      "52\n",
      "The first card of the deck: Two of Spades\n",
      "The card of the deck after shuffling: Jack of Clubs\n",
      "The top card of the deck: Jack of Clubs\n",
      "the dealt card from the deck is: Jack of Clubs\n"
     ]
    }
   ],
   "source": [
    "# creating a deck object\n",
    "\n",
    "deck = Deck()\n",
    "\n",
    "print(len(deck))\n",
    "\n",
    "print(f\"The first card of the deck: {deck.all_cards[0]}\")\n",
    "\n",
    "#shuffling the deck\n",
    "deck.shuffle()\n",
    "\n",
    "print(f\"The card of the deck after shuffling: {deck.all_cards[0]}\")\n",
    "\n",
    "# dealing one card from the deck which is on the top\n",
    "print(f\"The top card of the deck: {deck.all_cards[0]}\")\n",
    "my_card = deck.deal_one()\n",
    "print(f\"the dealt card from the deck is: {my_card}\")"
   ]
  },
  {
   "cell_type": "markdown",
   "metadata": {
    "id": "xVeuALRGCQB7"
   },
   "source": [
    "# Player Class\n",
    "\n",
    "holding the cards given from the deck so would have a list of cards\n",
    "\n",
    "will draw cards from the front\n",
    "\n",
    "will add the won cards at the end of the deck\n",
    "\n",
    "can add more than one card in his deck"
   ]
  },
  {
   "cell_type": "code",
   "execution_count": 13,
   "metadata": {
    "executionInfo": {
     "elapsed": 421,
     "status": "ok",
     "timestamp": 1735472481697,
     "user": {
      "displayName": "Lay Naik",
      "userId": "02664883309353394926"
     },
     "user_tz": -330
    },
    "id": "kvJW2VUBA9yO"
   },
   "outputs": [],
   "source": [
    "# creating a player class\n",
    "class Player:\n",
    "\n",
    "  def __init__(self, name):\n",
    "    self.name = name\n",
    "\n",
    "    self.all_cards = []\n",
    "\n",
    "  def remove_one(self):\n",
    "\n",
    "    return self.all_cards.pop(0)\n",
    "\n",
    "  def add_cards(self, new_cards):\n",
    "\n",
    "    if type(new_cards) == type([]):\n",
    "      self.all_cards.extend(new_cards)\n",
    "    else:\n",
    "      self.all_cards.append(new_cards)\n",
    "\n",
    "  def __str__(self):\n",
    "    return f'Player {self.name} has {len(self.all_cards)} cards.'"
   ]
  },
  {
   "cell_type": "code",
   "execution_count": 14,
   "metadata": {
    "executionInfo": {
     "elapsed": 391,
     "status": "ok",
     "timestamp": 1735472484715,
     "user": {
      "displayName": "Lay Naik",
      "userId": "02664883309353394926"
     },
     "user_tz": -330
    },
    "id": "JHw4C93cNaUa"
   },
   "outputs": [],
   "source": [
    "#Object of the player class\n",
    "\n",
    "vraj = Player(\"Vraj\")"
   ]
  },
  {
   "cell_type": "code",
   "execution_count": 15,
   "metadata": {
    "colab": {
     "base_uri": "https://localhost:8080/"
    },
    "executionInfo": {
     "elapsed": 385,
     "status": "ok",
     "timestamp": 1735472487046,
     "user": {
      "displayName": "Lay Naik",
      "userId": "02664883309353394926"
     },
     "user_tz": -330
    },
    "id": "rFhoY5uHNiNa",
    "outputId": "8324e196-d37b-4d31-d95b-49c339375433"
   },
   "outputs": [
    {
     "name": "stdout",
     "output_type": "stream",
     "text": [
      "Player Vraj has 0 cards.\n"
     ]
    }
   ],
   "source": [
    "print(vraj)"
   ]
  },
  {
   "cell_type": "code",
   "execution_count": 16,
   "metadata": {
    "executionInfo": {
     "elapsed": 388,
     "status": "ok",
     "timestamp": 1735472488949,
     "user": {
      "displayName": "Lay Naik",
      "userId": "02664883309353394926"
     },
     "user_tz": -330
    },
    "id": "ej2WzrCBNl8M"
   },
   "outputs": [],
   "source": [
    "vraj.add_cards([card1, card2])"
   ]
  },
  {
   "cell_type": "code",
   "execution_count": 17,
   "metadata": {
    "colab": {
     "base_uri": "https://localhost:8080/"
    },
    "executionInfo": {
     "elapsed": 383,
     "status": "ok",
     "timestamp": 1735472501235,
     "user": {
      "displayName": "Lay Naik",
      "userId": "02664883309353394926"
     },
     "user_tz": -330
    },
    "id": "4oiVpKAyN4jw",
    "outputId": "dbbb7519-a55f-43a1-d01c-a55b7bf4c5a3"
   },
   "outputs": [
    {
     "name": "stdout",
     "output_type": "stream",
     "text": [
      "Player Vraj has 2 cards.\n"
     ]
    }
   ],
   "source": [
    "print(vraj)"
   ]
  },
  {
   "cell_type": "markdown",
   "metadata": {},
   "source": [
    "War Game Logic"
   ]
  },
  {
   "cell_type": "code",
   "execution_count": 37,
   "metadata": {
    "id": "HbFb6GsPOM3A"
   },
   "outputs": [
    {
     "name": "stdout",
     "output_type": "stream",
     "text": [
      "Player One has 0 cards.\n",
      "Player Two has 0 cards.\n"
     ]
    }
   ],
   "source": [
    "# creating two players\n",
    "\n",
    "player_one = Player(\"One\")\n",
    "\n",
    "player_two = Player(\"Two\")\n",
    "\n",
    "print(player_one)\n",
    "print(player_two)"
   ]
  },
  {
   "cell_type": "code",
   "execution_count": 38,
   "metadata": {},
   "outputs": [],
   "source": [
    "# Creating a new deck\n",
    "new_deck = Deck()\n",
    "\n",
    "new_deck.shuffle()"
   ]
  },
  {
   "cell_type": "code",
   "execution_count": 39,
   "metadata": {},
   "outputs": [
    {
     "data": {
      "text/plain": [
       "26.0"
      ]
     },
     "execution_count": 39,
     "metadata": {},
     "output_type": "execute_result"
    }
   ],
   "source": [
    "# Splitting the deck so that it can be given to both the players\n",
    "\n",
    "len(new_deck) / 2"
   ]
  },
  {
   "cell_type": "code",
   "execution_count": 40,
   "metadata": {},
   "outputs": [],
   "source": [
    "for x in range(26):\n",
    "    player_one.add_cards(new_deck.deal_one())\n",
    "    player_two.add_cards(new_deck.deal_one())\n"
   ]
  },
  {
   "cell_type": "code",
   "execution_count": 41,
   "metadata": {},
   "outputs": [
    {
     "name": "stdout",
     "output_type": "stream",
     "text": [
      "0\n",
      "Player One has 26 cards.\n",
      "Player Two has 26 cards.\n"
     ]
    }
   ],
   "source": [
    "# after splitting checking the lenngth of the deck, player1 cards and player 2 cards\n",
    "print(len(new_deck))\n",
    "\n",
    "print(player_one)\n",
    "\n",
    "print(player_two)"
   ]
  },
  {
   "cell_type": "code",
   "execution_count": 42,
   "metadata": {},
   "outputs": [
    {
     "name": "stdout",
     "output_type": "stream",
     "text": [
      "Round: 1\n",
      "Round: 2\n",
      "Round: 3\n",
      "Round: 4\n",
      "Round: 5\n",
      "Round: 6\n",
      "Round: 7\n",
      "War\n",
      "Round: 8\n",
      "Round: 9\n",
      "Round: 10\n",
      "Round: 11\n",
      "War\n",
      "Round: 12\n",
      "Round: 13\n",
      "Round: 14\n",
      "Round: 15\n",
      "Round: 16\n",
      "Round: 17\n",
      "Round: 18\n",
      "Round: 19\n",
      "Round: 20\n",
      "Round: 21\n",
      "Round: 22\n",
      "Round: 23\n",
      "Round: 24\n",
      "Round: 25\n",
      "Round: 26\n",
      "Round: 27\n",
      "Round: 28\n",
      "Round: 29\n",
      "Round: 30\n",
      "Round: 31\n",
      "Round: 32\n",
      "Round: 33\n",
      "Round: 34\n",
      "Round: 35\n",
      "Round: 36\n",
      "Round: 37\n",
      "Round: 38\n",
      "Round: 39\n",
      "Round: 40\n",
      "Round: 41\n",
      "Round: 42\n",
      "Round: 43\n",
      "Round: 44\n",
      "Round: 45\n",
      "Round: 46\n",
      "Round: 47\n",
      "Round: 48\n",
      "Round: 49\n",
      "Round: 50\n",
      "Round: 51\n",
      "Round: 52\n",
      "Round: 53\n",
      "Round: 54\n",
      "Round: 55\n",
      "Round: 56\n",
      "Round: 57\n",
      "Round: 58\n",
      "Round: 59\n",
      "Round: 60\n",
      "Round: 61\n",
      "Round: 62\n",
      "Round: 63\n",
      "Round: 64\n",
      "Round: 65\n",
      "Round: 66\n",
      "Round: 67\n",
      "Round: 68\n",
      "Round: 69\n",
      "Round: 70\n",
      "Round: 71\n",
      "Round: 72\n",
      "Round: 73\n",
      "Round: 74\n",
      "Round: 75\n",
      "Round: 76\n",
      "Round: 77\n",
      "Round: 78\n",
      "Round: 79\n",
      "Round: 80\n",
      "Round: 81\n",
      "Round: 82\n",
      "Round: 83\n",
      "Round: 84\n",
      "Round: 85\n",
      "Round: 86\n",
      "Round: 87\n",
      "Round: 88\n",
      "Round: 89\n",
      "Round: 90\n",
      "Round: 91\n",
      "Round: 92\n",
      "Round: 93\n",
      "Round: 94\n",
      "Round: 95\n",
      "War\n",
      "Round: 96\n",
      "Round: 97\n",
      "Round: 98\n",
      "Round: 99\n",
      "Round: 100\n",
      "Round: 101\n",
      "Round: 102\n",
      "Round: 103\n",
      "Round: 104\n",
      "Round: 105\n",
      "Round: 106\n",
      "Round: 107\n",
      "Round: 108\n",
      "Round: 109\n",
      "Round: 110\n",
      "Round: 111\n",
      "Round: 112\n",
      "Round: 113\n",
      "Round: 114\n",
      "Round: 115\n",
      "Round: 116\n",
      "Round: 117\n",
      "Round: 118\n",
      "Round: 119\n",
      "Round: 120\n",
      "Round: 121\n",
      "Round: 122\n",
      "Round: 123\n",
      "Round: 124\n",
      "War\n",
      "Round: 125\n",
      "Round: 126\n",
      "Round: 127\n",
      "Round: 128\n",
      "Round: 129\n",
      "Round: 130\n",
      "Round: 131\n",
      "War\n",
      "Round: 132\n",
      "Player One out of cards!! Game Over\n",
      "Player two Wins, Player one looses\n"
     ]
    }
   ],
   "source": [
    "# playing the game\n",
    "\n",
    "import pdb\n",
    "\n",
    "game_on = True\n",
    "\n",
    "round_num = 0\n",
    "\n",
    "while game_on:\n",
    "    \n",
    "    round_num += 1\n",
    "    \n",
    "    print(f\"Round: {round_num}\")\n",
    "    \n",
    "    if len(player_one.all_cards) == 0:\n",
    "        \n",
    "        print(\"Player One out of cards!! Game Over\")\n",
    "        print(\"Player two Wins, Player one looses\")\n",
    "        game_on = False\n",
    "        break\n",
    "        \n",
    "    if len(player_two.all_cards) == 0:\n",
    "        \n",
    "        print(\"Player Two out of cards!! Game Over\")\n",
    "        print(\"Player One Wins, Player Two looses\")\n",
    "        game_on = False\n",
    "        break\n",
    "        \n",
    "    # now adding another two list, which would help to compare the cards because while for one cards it is not needed but when at war, players would need to draw five cards and and if while at war they draw another war then there will be total ten cards so we would be needing the list\n",
    "    \n",
    "    player_one_current_cards = []\n",
    "    player_two_current_cards = []\n",
    "    \n",
    "    #now both players are drawing one cards so we would use remove_one from player class and would use append to add them to the current cards\n",
    "    player_one_current_cards.append(player_one.remove_one())\n",
    "    player_two_current_cards.append(player_two.remove_one())\n",
    "    \n",
    "    at_war = True\n",
    "    \n",
    "    while at_war:\n",
    "        if player_one_current_cards[-1].value > player_two_current_cards[-1].value:\n",
    "            \n",
    "            player_one.add_cards(player_one_current_cards)\n",
    "            player_one.add_cards(player_two_current_cards)\n",
    "            \n",
    "            at_war = False\n",
    "        elif player_one_current_cards[-1].value < player_two_current_cards[-1].value:\n",
    "            \n",
    "            player_two.add_cards(player_one_current_cards)\n",
    "            player_two.add_cards(player_two_current_cards)\n",
    "            \n",
    "            at_war = False\n",
    "        else:\n",
    "            \n",
    "            print(\"War\")\n",
    "            \n",
    "            if len(player_one.all_cards) < 5:\n",
    "                print(\"Player One unable to play war! Game Over at War\")\n",
    "                print(\"Player Two Wins! Player One Loses!\")\n",
    "                game_on = False\n",
    "                break\n",
    "\n",
    "            elif len(player_two.all_cards) < 5:\n",
    "                print(\"Player Two unable to play war! Game Over at War\")\n",
    "                print(\"Player One Wins! Player One Loses!\")\n",
    "                game_on = False\n",
    "                break\n",
    "            else:\n",
    "                for num in range(5):\n",
    "                    player_one_current_cards.append(player_one.remove_one())\n",
    "                    player_two_current_cards.append(player_two.remove_one())\n",
    "                    \n",
    "        \n",
    "            "
   ]
  },
  {
   "cell_type": "code",
   "execution_count": null,
   "metadata": {},
   "outputs": [],
   "source": []
  }
 ],
 "metadata": {
  "colab": {
   "authorship_tag": "ABX9TyMnR9enTbtkAVxFF/POYXBc",
   "provenance": []
  },
  "kernelspec": {
   "display_name": "base",
   "language": "python",
   "name": "python3"
  },
  "language_info": {
   "codemirror_mode": {
    "name": "ipython",
    "version": 3
   },
   "file_extension": ".py",
   "mimetype": "text/x-python",
   "name": "python",
   "nbconvert_exporter": "python",
   "pygments_lexer": "ipython3",
   "version": "3.12.7"
  }
 },
 "nbformat": 4,
 "nbformat_minor": 0
}
