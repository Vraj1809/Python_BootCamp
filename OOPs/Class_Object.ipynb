{
 "cells": [
  {
   "cell_type": "code",
   "execution_count": 7,
   "metadata": {},
   "outputs": [
    {
     "name": "stdout",
     "output_type": "stream",
     "text": [
      "Radius is: 1\n",
      "Area is: 3.14\n",
      "Circumference is: 6.28\n",
      "Updated Radius is: 2\n",
      "Updated Area is: 12.56\n",
      "Updated Circumference is: 12.56\n"
     ]
    }
   ],
   "source": [
    "class Circle:\n",
    "    \n",
    "    #class object attribute - same for all of the objects of the class\n",
    "    pi = 3.14\n",
    "    \n",
    "    #__init__(self) function - awlays gets executed when the class is being initiated, used to assign values to the object properites, contains first argument as \"self\" which refers to the current instance of the class. it is not necessary to name it as self we can call it whatever we like but that should be the first argument of function\n",
    "    \n",
    "    def __init__(self, radius =1):   # default argument 1\n",
    "        \n",
    "        # radius is one of the attributes\n",
    "        self.radius = radius\n",
    "        \n",
    "        # accessing the class object attribute using the class name\n",
    "        self.area = radius * radius * Circle.pi\n",
    "        \n",
    "    def setRadius(self, new_radius):\n",
    "        self.radius = new_radius\n",
    "        self.area = new_radius * new_radius * self.pi\n",
    "        \n",
    "    def getCircumference(self):\n",
    "        return self.radius * Circle.pi * 2\n",
    "        pass\n",
    "\n",
    "c = Circle()\n",
    "print(f\"Radius is: {c.radius}\")\n",
    "print(f\"Area is: {c.area}\")\n",
    "print(f\"Circumference is: {c.getCircumference()}\")\n",
    "\n",
    "rad = int(input(\"Enter Radius: \"))\n",
    "\n",
    "#modifying object properties using the Object Method\n",
    "c.setRadius(rad)\n",
    "\n",
    "print(f\"Updated Radius is: {c.radius}\")\n",
    "print(f\"Updated Area is: {c.area}\")\n",
    "print(f\"Updated Circumference is: {c.getCircumference()}\")"
   ]
  },
  {
   "cell_type": "code",
   "execution_count": 8,
   "metadata": {},
   "outputs": [
    {
     "ename": "AttributeError",
     "evalue": "'Circle' object has no attribute 'radius'",
     "output_type": "error",
     "traceback": [
      "\u001b[1;31m---------------------------------------------------------------------------\u001b[0m",
      "\u001b[1;31mAttributeError\u001b[0m                            Traceback (most recent call last)",
      "Cell \u001b[1;32mIn[8], line 4\u001b[0m\n\u001b[0;32m      1\u001b[0m \u001b[38;5;66;03m# deleting object properties\u001b[39;00m\n\u001b[0;32m      2\u001b[0m \u001b[38;5;28;01mdel\u001b[39;00m c\u001b[38;5;241m.\u001b[39mradius\n\u001b[1;32m----> 4\u001b[0m \u001b[38;5;28mprint\u001b[39m(\u001b[38;5;124mf\u001b[39m\u001b[38;5;124m\"\u001b[39m\u001b[38;5;124mThe Radius of Circle is: \u001b[39m\u001b[38;5;132;01m{\u001b[39;00mc\u001b[38;5;241m.\u001b[39mradius\u001b[38;5;132;01m}\u001b[39;00m\u001b[38;5;124m\"\u001b[39m)\n",
      "\u001b[1;31mAttributeError\u001b[0m: 'Circle' object has no attribute 'radius'"
     ]
    }
   ],
   "source": [
    "# deleting object properties\n",
    "del c.radius\n",
    "\n",
    "print(f\"The Radius of Circle is: {c.radius}\")"
   ]
  },
  {
   "cell_type": "code",
   "execution_count": 9,
   "metadata": {},
   "outputs": [
    {
     "ename": "NameError",
     "evalue": "name 'c' is not defined",
     "output_type": "error",
     "traceback": [
      "\u001b[1;31m---------------------------------------------------------------------------\u001b[0m",
      "\u001b[1;31mNameError\u001b[0m                                 Traceback (most recent call last)",
      "Cell \u001b[1;32mIn[9], line 4\u001b[0m\n\u001b[0;32m      1\u001b[0m \u001b[38;5;66;03m# deleting the object\u001b[39;00m\n\u001b[0;32m      2\u001b[0m \u001b[38;5;28;01mdel\u001b[39;00m c\n\u001b[1;32m----> 4\u001b[0m \u001b[38;5;28mprint\u001b[39m(\u001b[38;5;28mtype\u001b[39m(c))\n",
      "\u001b[1;31mNameError\u001b[0m: name 'c' is not defined"
     ]
    }
   ],
   "source": [
    "# deleting the object\n",
    "del c\n",
    "\n",
    "print(type(c))"
   ]
  },
  {
   "cell_type": "code",
   "execution_count": 10,
   "metadata": {},
   "outputs": [],
   "source": [
    "# Special Methods - not called directly but are python specific language syntax\n",
    "class Book:\n",
    "    \n",
    "    # called when the class object is initiated \n",
    "    def __init__(self, title, author, pages):\n",
    "        print(\"A book is created\")\n",
    "        self.title = title\n",
    "        self.author = author\n",
    "        self.pages = pages\n",
    "        \n",
    "    # called to decide how to represent the object when it is called\n",
    "    def __str__(self):\n",
    "        return \"Title: %s, author: %s, pages: %s\" %(self.title, self.author, self.pages)\n",
    "\n",
    "    # called when length of the object is asked\n",
    "    def __len__(self):\n",
    "        return self.pages\n",
    "    \n",
    "    # calld when deleting the object \n",
    "    def __del__(self):\n",
    "        print(\"A book is destroyed\")"
   ]
  },
  {
   "cell_type": "code",
   "execution_count": 11,
   "metadata": {},
   "outputs": [
    {
     "name": "stdout",
     "output_type": "stream",
     "text": [
      "A book is created\n",
      "Here the __str__ special method is used: \n",
      " Title: Crest Infosystem, author: Vraj, pages: 250\n",
      "Here the __len__ special method is used: \n",
      " The length of the book: 250\n",
      "Here the __del__ special method is used: \n",
      " Deleting the object:\n",
      "A book is destroyed\n"
     ]
    }
   ],
   "source": [
    "book = Book(\"Crest Infosystem\", \"Vraj\", 250)\n",
    "\n",
    "print(\"Here the __str__ special method is used: \\n\", book)\n",
    "print(\"Here the __len__ special method is used: \\n\", f\"The length of the book: {len(book)}\")\n",
    "print(\"Here the __del__ special method is used: \\n\", f\"Deleting the object:\")\n",
    "del book"
   ]
  },
  {
   "cell_type": "code",
   "execution_count": null,
   "metadata": {},
   "outputs": [],
   "source": []
  }
 ],
 "metadata": {
  "kernelspec": {
   "display_name": "base",
   "language": "python",
   "name": "python3"
  },
  "language_info": {
   "codemirror_mode": {
    "name": "ipython",
    "version": 3
   },
   "file_extension": ".py",
   "mimetype": "text/x-python",
   "name": "python",
   "nbconvert_exporter": "python",
   "pygments_lexer": "ipython3",
   "version": "3.12.7"
  }
 },
 "nbformat": 4,
 "nbformat_minor": 2
}
