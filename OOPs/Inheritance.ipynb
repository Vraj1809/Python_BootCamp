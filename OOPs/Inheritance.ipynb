{
 "cells": [
  {
   "cell_type": "code",
   "execution_count": 6,
   "metadata": {},
   "outputs": [],
   "source": [
    "#Parent Class\n",
    "class Car:\n",
    "    def __init__(self, windows, door, engine_type):\n",
    "        self.windows = windows\n",
    "        self.door = door\n",
    "        self.engine_type = engine_type\n",
    "    \n",
    "    def drive(self):\n",
    "        print(f\"The car is a {self.engine_type} car\")"
   ]
  },
  {
   "cell_type": "code",
   "execution_count": 7,
   "metadata": {},
   "outputs": [
    {
     "name": "stdout",
     "output_type": "stream",
     "text": [
      "The car is a Diesel car\n"
     ]
    }
   ],
   "source": [
    "# Object of parent class\n",
    "c1 = Car(4,5,\"Diesel\")\n",
    "\n",
    "c1.drive()"
   ]
  },
  {
   "cell_type": "code",
   "execution_count": 10,
   "metadata": {},
   "outputs": [
    {
     "name": "stdout",
     "output_type": "stream",
     "text": [
      "The car is a Diesel car\n"
     ]
    }
   ],
   "source": [
    "#simple child class\n",
    "class Ritz(Car):\n",
    "    pass\n",
    "\n",
    "#because of using pass no need of adding init method or anything like that, it would automatically inherit all of the properties and methods of the parent\n",
    "\n",
    "R = Ritz(4,5,\"Diesel\")\n",
    "\n",
    "R.drive()"
   ]
  },
  {
   "cell_type": "code",
   "execution_count": 13,
   "metadata": {},
   "outputs": [
    {
     "name": "stdout",
     "output_type": "stream",
     "text": [
      "The car is a Electric car\n",
      "Tesla supports self driving: True\n"
     ]
    }
   ],
   "source": [
    "# even though inheriting, implementing our child class's own methods\n",
    "class Tesla(Car):\n",
    "    def __init__(self, windows, doors, engine_type, is_selfdriving):\n",
    "        \n",
    "        #initating __init__ method of parent and passing the information of child\n",
    "        super().__init__(windows, doors, engine_type)\n",
    "        self.is_selfdriving = is_selfdriving\n",
    "        \n",
    "    def selfdriving(self):\n",
    "        print(f\"Tesla supports self driving: {self.is_selfdriving}\")\n",
    "        \n",
    "tesla = Tesla(4,5,\"Electric\",True)\n",
    "tesla.drive()\n",
    "tesla.selfdriving()       "
   ]
  },
  {
   "cell_type": "code",
   "execution_count": 17,
   "metadata": {},
   "outputs": [
    {
     "name": "stdout",
     "output_type": "stream",
     "text": [
      "Buddy say woof\n",
      "Owner:Krish\n",
      "Subclass must implement this method\n",
      "None\n",
      "Owner:Krish\n"
     ]
    }
   ],
   "source": [
    "# Multiple Inheritance\n",
    "class Animal:\n",
    "    def __init__(self,name):\n",
    "        self.name=name\n",
    "\n",
    "    def speak(self):\n",
    "        print(\"Subclass must implement this method\")\n",
    "\n",
    "## BAse class 2\n",
    "class Pet:\n",
    "    def __init__(self, owner):\n",
    "        self.owner = owner\n",
    "\n",
    "\n",
    "##Derived class\n",
    "class Dog(Animal,Pet):\n",
    "    def __init__(self,name,owner):\n",
    "        Animal.__init__(self,name)\n",
    "        Pet.__init__(self,owner)\n",
    "\n",
    "    def speak(self):\n",
    "        return f\"{self.name} say woof\"\n",
    "\n",
    "#speak not implemented\n",
    "class Cat(Animal,Pet):\n",
    "    def __init__(self,name,owner):\n",
    "        Animal.__init__(self,name)\n",
    "        Pet.__init__(self,owner)\n",
    "\n",
    "\n",
    "## Create an object\n",
    "dog=Dog(\"Buddy\",\"Krish\")\n",
    "cat=Cat(\"Pussy\",\"Krish\")\n",
    "print(dog.speak())\n",
    "print(f\"Owner:{dog.owner}\")\n",
    "print(cat.speak())\n",
    "print(f\"Owner:{cat.owner}\")"
   ]
  },
  {
   "cell_type": "code",
   "execution_count": null,
   "metadata": {},
   "outputs": [],
   "source": []
  }
 ],
 "metadata": {
  "kernelspec": {
   "display_name": "base",
   "language": "python",
   "name": "python3"
  },
  "language_info": {
   "codemirror_mode": {
    "name": "ipython",
    "version": 3
   },
   "file_extension": ".py",
   "mimetype": "text/x-python",
   "name": "python",
   "nbconvert_exporter": "python",
   "pygments_lexer": "ipython3",
   "version": "3.12.7"
  }
 },
 "nbformat": 4,
 "nbformat_minor": 2
}
