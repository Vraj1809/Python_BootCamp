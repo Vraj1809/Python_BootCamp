{
 "cells": [
  {
   "cell_type": "code",
   "execution_count": 2,
   "metadata": {},
   "outputs": [
    {
     "name": "stdout",
     "output_type": "stream",
     "text": [
      "6\n",
      "3\n",
      "3\n"
     ]
    }
   ],
   "source": [
    "#Function Polymorphism \n",
    "\n",
    "#len() method\n",
    "\n",
    "print(len(\"String\")) # for string\n",
    "print(len((\"apple\", \"banana\", \"cherry\"))) # for tuple\n",
    "print(len({\n",
    "  \"brand\": \"Ford\",                      # for dictionary\n",
    "  \"model\": \"Mustang\",\n",
    "  \"year\": 1964\n",
    "}))"
   ]
  },
  {
   "cell_type": "code",
   "execution_count": 4,
   "metadata": {},
   "outputs": [
    {
     "name": "stdout",
     "output_type": "stream",
     "text": [
      "Run!!\n",
      "Sail\n"
     ]
    }
   ],
   "source": [
    "#Class Polymorphism\n",
    "\n",
    "class Car:\n",
    "    def __init__ (self, carName):\n",
    "        self.carName = carName\n",
    "    \n",
    "    def move(self):\n",
    "        print(\"Run!!\")\n",
    "        \n",
    "class Boat:\n",
    "    def __init__(self, boatName):\n",
    "        self.boatName = boatName\n",
    "    \n",
    "    def move(self):\n",
    "        print(\"Sail\")\n",
    "\n",
    "car1 = Car(\"ford\")\n",
    "boat1 = Boat(\"Benz\")\n",
    "\n",
    "car1.move()\n",
    "boat1.move()"
   ]
  },
  {
   "cell_type": "code",
   "execution_count": 9,
   "metadata": {},
   "outputs": [
    {
     "name": "stdout",
     "output_type": "stream",
     "text": [
      "Buddy say woof\n",
      "Subclass must implement this method\n"
     ]
    }
   ],
   "source": [
    "#Inheritance Class Polymorphism\n",
    "class Animal:\n",
    "    def __init__(self,name):\n",
    "        self.name=name\n",
    "\n",
    "    def speak(self):\n",
    "        print(\"Subclass must implement this method\")\n",
    "\n",
    "##Derived class\n",
    "class Dog(Animal):\n",
    "    def __init__(self,name):\n",
    "        Animal.__init__(self,name)\n",
    "\n",
    "    def speak(self):\n",
    "        print(f\"{self.name} say woof\")\n",
    "\n",
    "#speak not implemented so polymorphism will not be done here\n",
    "class Cat(Animal):\n",
    "    def __init__(self,name):\n",
    "        Animal.__init__(self,name)\n",
    "\n",
    "\n",
    "## Create an object\n",
    "dog=Dog(\"Buddy\")\n",
    "cat=Cat(\"Pussy\")\n",
    "\n",
    "dog.speak()\n",
    "cat.speak()"
   ]
  },
  {
   "cell_type": "code",
   "execution_count": 13,
   "metadata": {},
   "outputs": [
    {
     "ename": "TypeError",
     "evalue": "Can't instantiate abstract class Cat without an implementation for abstract method 'speak'",
     "output_type": "error",
     "traceback": [
      "\u001b[1;31m---------------------------------------------------------------------------\u001b[0m",
      "\u001b[1;31mTypeError\u001b[0m                                 Traceback (most recent call last)",
      "Cell \u001b[1;32mIn[13], line 26\u001b[0m\n\u001b[0;32m     24\u001b[0m \u001b[38;5;66;03m## Create an object\u001b[39;00m\n\u001b[0;32m     25\u001b[0m dog\u001b[38;5;241m=\u001b[39mDog(\u001b[38;5;124m\"\u001b[39m\u001b[38;5;124mBuddy\u001b[39m\u001b[38;5;124m\"\u001b[39m)\n\u001b[1;32m---> 26\u001b[0m cat\u001b[38;5;241m=\u001b[39mCat(\u001b[38;5;124m\"\u001b[39m\u001b[38;5;124mPussy\u001b[39m\u001b[38;5;124m\"\u001b[39m)\n\u001b[0;32m     28\u001b[0m dog\u001b[38;5;241m.\u001b[39mspeak()\n",
      "\u001b[1;31mTypeError\u001b[0m: Can't instantiate abstract class Cat without an implementation for abstract method 'speak'"
     ]
    }
   ],
   "source": [
    "# Polymorphism with Abstract Classes - Abstract classes used for the blue print of the group related object.\n",
    "from abc import ABC, abstractmethod\n",
    "\n",
    "class Animal(ABC):\n",
    "    @abstractmethod\n",
    "    \n",
    "    #speak method must be implemented by the child class otherwise it would return an error\n",
    "    def speak(self):\n",
    "        pass\n",
    "\n",
    "##Derived class\n",
    "class Dog(Animal):\n",
    "    def __init__(self,name):\n",
    "        self.name = name\n",
    "\n",
    "    def speak(self):\n",
    "        print(f\"{self.name} say woof\")\n",
    "\n",
    "#speak not implemented so polymorphism will not be done here\n",
    "class Cat(Animal):\n",
    "    def __init__(self,name):\n",
    "        self.name = name\n",
    "\n",
    "## Create an object\n",
    "dog=Dog(\"Buddy\")\n",
    "cat=Cat(\"Pussy\")\n",
    "\n",
    "dog.speak()\n",
    "cat.speak()"
   ]
  },
  {
   "cell_type": "code",
   "execution_count": null,
   "metadata": {},
   "outputs": [],
   "source": []
  }
 ],
 "metadata": {
  "kernelspec": {
   "display_name": "base",
   "language": "python",
   "name": "python3"
  },
  "language_info": {
   "codemirror_mode": {
    "name": "ipython",
    "version": 3
   },
   "file_extension": ".py",
   "mimetype": "text/x-python",
   "name": "python",
   "nbconvert_exporter": "python",
   "pygments_lexer": "ipython3",
   "version": "3.12.7"
  }
 },
 "nbformat": 4,
 "nbformat_minor": 2
}
