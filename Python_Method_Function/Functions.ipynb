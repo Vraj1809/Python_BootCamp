{
 "cells": [
  {
   "cell_type": "code",
   "execution_count": 1,
   "metadata": {},
   "outputs": [
    {
     "data": {
      "text/plain": [
       "[2, 4, 6, 8, 10]"
      ]
     },
     "execution_count": 1,
     "metadata": {},
     "output_type": "execute_result"
    }
   ],
   "source": [
    "# returning numbers that even from the list\n",
    "def even_num_list(list):\n",
    "    even_list = []\n",
    "    for num in list:\n",
    "        if(num % 2 == 0):\n",
    "            even_list.append(num)\n",
    "    return even_list\n",
    "\n",
    "list = [1, 2, 3, 4, 5, 6, 7, 8, 9, 10]\n",
    "even_num_list(list)\n"
   ]
  },
  {
   "cell_type": "code",
   "execution_count": 7,
   "metadata": {},
   "outputs": [
    {
     "data": {
      "text/plain": [
       "('Cassie', 800)"
      ]
     },
     "execution_count": 7,
     "metadata": {},
     "output_type": "execute_result"
    }
   ],
   "source": [
    "# RETURNING TUPLE FOR UNPACKING\n",
    "\n",
    "work_hours = [('Abby',100),('Billy',400),('Cassie',800)]\n",
    "\n",
    "def employee_of_the_month(work_hours):\n",
    "    max_hours = 0\n",
    "    employee_name = \"\"\n",
    "    \n",
    "    for employee,hours in work_hours:\n",
    "        if hours > max_hours:\n",
    "            max_hours = hours\n",
    "            employee_name = employee\n",
    "    \n",
    "    return (employee_name, max_hours)\n",
    "\n",
    "employee_of_the_month(work_hours)\n",
    "            "
   ]
  },
  {
   "cell_type": "code",
   "execution_count": 14,
   "metadata": {},
   "outputs": [],
   "source": [
    "#Guessing Game\n",
    "cups = [' ', 'O', ' ']\n",
    "\n",
    "# method to shuffle the cups\n",
    "def shuffle_list(cups):\n",
    "    from random import shuffle\n",
    "    return shuffle(cups)\n",
    "\n",
    "# method to get the guuess of the player and check it if it the correct guess\n",
    "def player_guess(cups):\n",
    "    pos = int(input(\"Enter the guess from these 3 positions: \"))\n",
    "    if cups[pos] == 'O':\n",
    "        print(\"Congrats you have won the game.\")\n",
    "    else:\n",
    "        print(\"Sorry, Please try again.\")"
   ]
  },
  {
   "cell_type": "code",
   "execution_count": 15,
   "metadata": {},
   "outputs": [
    {
     "name": "stdout",
     "output_type": "stream",
     "text": [
      "Congrats you have won the game.\n"
     ]
    }
   ],
   "source": [
    "shuffle_list(cups)\n",
    "player_guess(cups)"
   ]
  },
  {
   "cell_type": "code",
   "execution_count": null,
   "metadata": {},
   "outputs": [],
   "source": []
  }
 ],
 "metadata": {
  "kernelspec": {
   "display_name": "base",
   "language": "python",
   "name": "python3"
  },
  "language_info": {
   "codemirror_mode": {
    "name": "ipython",
    "version": 3
   },
   "file_extension": ".py",
   "mimetype": "text/x-python",
   "name": "python",
   "nbconvert_exporter": "python",
   "pygments_lexer": "ipython3",
   "version": "3.12.7"
  }
 },
 "nbformat": 4,
 "nbformat_minor": 2
}
