{
 "cells": [
  {
   "cell_type": "markdown",
   "metadata": {},
   "source": [
    "Lambda Function"
   ]
  },
  {
   "cell_type": "code",
   "execution_count": 4,
   "metadata": {},
   "outputs": [
    {
     "data": {
      "text/plain": [
       "False"
      ]
     },
     "execution_count": 4,
     "metadata": {},
     "output_type": "execute_result"
    }
   ],
   "source": [
    "# normal function\n",
    "def addition (a,b) :\n",
    "    return a+b\n",
    "addition(2,3)\n",
    "\n",
    "#lambda function\n",
    "even = lambda num: num % 2 == 0\n",
    "even(5)"
   ]
  },
  {
   "cell_type": "markdown",
   "metadata": {},
   "source": [
    "Map Function"
   ]
  },
  {
   "cell_type": "code",
   "execution_count": 21,
   "metadata": {},
   "outputs": [
    {
     "name": "stdout",
     "output_type": "stream",
     "text": [
      "['M', 'N', 'I', 'V', 'D']\n"
     ]
    }
   ],
   "source": [
    "#map function to get the first character of every word in the list\n",
    "\n",
    "\n",
    "def first_word(list1):\n",
    "    for word in list1:\n",
    "        return word[0]\n",
    "\n",
    "list1 = [\"My\", \"Name\", \"Is\", \"Vraj\", \"Desai\"]\n",
    "# list2 = [\"my\", \"name\", \"is\", \"vraj\", \"desai\"]\n",
    "\n",
    "print(list(map(first_word, list1)))"
   ]
  },
  {
   "cell_type": "markdown",
   "metadata": {},
   "source": [
    "Filter Function"
   ]
  },
  {
   "cell_type": "code",
   "execution_count": 35,
   "metadata": {},
   "outputs": [
    {
     "name": "stdout",
     "output_type": "stream",
     "text": [
      "['Name', 'Vraj', 'Desai']\n"
     ]
    }
   ],
   "source": [
    "#filter function to get the words which contains \"a\"\n",
    "\n",
    "def filter_word(list1):\n",
    "    list3 = []\n",
    "    for word in list1:\n",
    "        if \"a\" in word:\n",
    "            # print(type(word))\n",
    "            list3.append(word)\n",
    "    return list3\n",
    "\n",
    "list1 = [\"My\", \"Name\", \"Is\", \"Vraj\", \"Desai\"]\n",
    "\n",
    "print(list(filter(filter_word,list1)))"
   ]
  },
  {
   "cell_type": "code",
   "execution_count": 38,
   "metadata": {},
   "outputs": [
    {
     "name": "stdout",
     "output_type": "stream",
     "text": [
      "[1, 4, 9, 16, 25, 36, 49, 64]\n",
      "[6, 7, 8, 9]\n"
     ]
    }
   ],
   "source": [
    "#using lambda in map and filter\n",
    "## Lambda function with map\n",
    "numbers=[1,2,3,4,5,6,7,8]\n",
    "print(list(map(lambda x:x*x,numbers)))\n",
    "\n",
    "## filter with a Lambda Function\n",
    "numbers=[1,2,3,4,5,6,7,8,9]\n",
    "greater_than_five=list(filter(lambda x:x>5,numbers))\n",
    "print(greater_than_five)\n"
   ]
  }
 ],
 "metadata": {
  "kernelspec": {
   "display_name": "base",
   "language": "python",
   "name": "python3"
  },
  "language_info": {
   "codemirror_mode": {
    "name": "ipython",
    "version": 3
   },
   "file_extension": ".py",
   "mimetype": "text/x-python",
   "name": "python",
   "nbconvert_exporter": "python",
   "pygments_lexer": "ipython3",
   "version": "3.12.7"
  }
 },
 "nbformat": 4,
 "nbformat_minor": 2
}
