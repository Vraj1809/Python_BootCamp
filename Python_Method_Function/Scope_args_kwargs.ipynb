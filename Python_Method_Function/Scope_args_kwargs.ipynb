{
 "cells": [
  {
   "cell_type": "code",
   "execution_count": 2,
   "metadata": {},
   "outputs": [
    {
     "name": "stdout",
     "output_type": "stream",
     "text": [
      "Local value is 5\n",
      "Inside local value is 10\n",
      "Outside local value is still 5\n"
     ]
    }
   ],
   "source": [
    "# local \n",
    "var = 5\n",
    "print (f\"Local value is {var}\")\n",
    "\n",
    "def local():\n",
    "    var = 10\n",
    "    print(f\"Inside local value is {var}\")\n",
    "    \n",
    "local()\n",
    "print(f\"Outside local value is still {var}\")"
   ]
  },
  {
   "cell_type": "code",
   "execution_count": 3,
   "metadata": {},
   "outputs": [
    {
     "name": "stdout",
     "output_type": "stream",
     "text": [
      "Local value is 5\n",
      "Inside global lue is 10\n",
      "Outside global value is still 10\n"
     ]
    }
   ],
   "source": [
    "#global\n",
    "var = 5\n",
    "print (f\"Local value is {var}\")\n",
    "\n",
    "def local():\n",
    "    global var\n",
    "    var = 10\n",
    "    print(f\"Inside global lue is {var}\")\n",
    "    \n",
    "local()\n",
    "print(f\"Outside global value is still {var}\")"
   ]
  },
  {
   "cell_type": "code",
   "execution_count": 1,
   "metadata": {},
   "outputs": [
    {
     "name": "stdout",
     "output_type": "stream",
     "text": [
      "I like eggs and spam and my favorite fruit is cherries\n",
      "May I have some orange juice?\n"
     ]
    }
   ],
   "source": [
    "#args and kwargs combined\n",
    "\n",
    "def myfunc(*args, **kwargs):\n",
    "    if 'fruit' and 'juice' in kwargs:\n",
    "        print(f\"I like {' and '.join(args)} and my favorite fruit is {kwargs['fruit']}\")\n",
    "        print(f\"May I have some {kwargs['juice']} juice?\")\n",
    "    else:\n",
    "        pass\n",
    "        \n",
    "myfunc('eggs','spam',fruit='cherries',juice='orange')"
   ]
  }
 ],
 "metadata": {
  "kernelspec": {
   "display_name": "base",
   "language": "python",
   "name": "python3"
  },
  "language_info": {
   "codemirror_mode": {
    "name": "ipython",
    "version": 3
   },
   "file_extension": ".py",
   "mimetype": "text/x-python",
   "name": "python",
   "nbconvert_exporter": "python",
   "pygments_lexer": "ipython3",
   "version": "3.12.7"
  }
 },
 "nbformat": 4,
 "nbformat_minor": 2
}
