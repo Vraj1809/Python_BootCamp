{
 "cells": [
  {
   "cell_type": "markdown",
   "metadata": {},
   "source": [
    "Dictionary Creation"
   ]
  },
  {
   "cell_type": "code",
   "execution_count": 1,
   "metadata": {},
   "outputs": [
    {
     "name": "stdout",
     "output_type": "stream",
     "text": [
      "{'name': 'Vraj', 'Num': 32}\n",
      "{'name': 'Vraj', 'Num': 32}\n"
     ]
    }
   ],
   "source": [
    "dict1 = {\"name\" : \"Vraj\", \"Num\" : 32}\n",
    "dict2 = dict(name = \"Vraj\", Num = 32)\n",
    "\n",
    "print(dict1)\n",
    "print(dict2)\n"
   ]
  },
  {
   "cell_type": "markdown",
   "metadata": {},
   "source": [
    "List Access\n",
    "- using keys\n",
    "- using get method\n",
    "- getting the keys\n",
    "- getting the values\n",
    "- getting the key-value item pair"
   ]
  },
  {
   "cell_type": "code",
   "execution_count": 4,
   "metadata": {},
   "outputs": [
    {
     "name": "stdout",
     "output_type": "stream",
     "text": [
      "Vraj\n",
      "Vraj\n",
      "dict_keys(['name', 'Num'])\n",
      "dict_values(['Vraj', 32])\n",
      "dict_items([('name', 'Vraj'), ('Num', 32)])\n",
      "num is not in the dict1\n"
     ]
    }
   ],
   "source": [
    "print(dict1[\"name\"])\n",
    "\n",
    "print(dict1.get(\"name\"))\n",
    "\n",
    "print(dict1.keys())\n",
    "\n",
    "print(dict1.values())\n",
    "\n",
    "print(dict1.items())\n",
    "\n",
    "if \"num\" in dict1:\n",
    "    print(\"num is in the dict1 as a key\")\n",
    "else:\n",
    "    print(\"num is not in the dict1\")"
   ]
  },
  {
   "cell_type": "markdown",
   "metadata": {},
   "source": [
    "Change list items\n",
    "- using keys\n",
    "- using update method"
   ]
  },
  {
   "cell_type": "code",
   "execution_count": 7,
   "metadata": {},
   "outputs": [
    {
     "name": "stdout",
     "output_type": "stream",
     "text": [
      "{'name': 'Vipul', 'Num': 32}\n",
      "{'name': 'Vraj', 'Num': 32}\n"
     ]
    }
   ],
   "source": [
    "dict1[\"name\"] = \"Vipul\"\n",
    "\n",
    "print(dict1)\n",
    "\n",
    "dict1.update({\"name\" : \"Vraj\"})\n",
    "print(dict1)\n"
   ]
  },
  {
   "cell_type": "markdown",
   "metadata": {},
   "source": [
    "Add List Items\n",
    "- using new key\n",
    "- using update method"
   ]
  },
  {
   "cell_type": "code",
   "execution_count": 9,
   "metadata": {},
   "outputs": [
    {
     "name": "stdout",
     "output_type": "stream",
     "text": [
      "{'name': 'Vraj', 'Num': 32, 'age': 32}\n",
      "{'name': 'Vraj', 'Num': 32, 'age': 32, 'phone': 904969}\n"
     ]
    }
   ],
   "source": [
    "dict1[\"age\"] = 32\n",
    "\n",
    "print(dict1)\n",
    "\n",
    "\n",
    "dict1.update({\"phone\" : 904969}) # update is used for update as well as addition because if the item doesn't exist in the dictionary then it will be automatically added to the dictionary\n",
    "print(dict1)\n"
   ]
  },
  {
   "cell_type": "markdown",
   "metadata": {},
   "source": [
    "Remove List Items\n",
    "- pop using the key\n",
    "- popitem removes the last inserted item\n",
    "- del, using the key as well the entire dictionary\n",
    "- clear empties the dictionary"
   ]
  },
  {
   "cell_type": "code",
   "execution_count": 16,
   "metadata": {},
   "outputs": [
    {
     "ename": "KeyError",
     "evalue": "'phone'",
     "output_type": "error",
     "traceback": [
      "\u001b[1;31m---------------------------------------------------------------------------\u001b[0m",
      "\u001b[1;31mKeyError\u001b[0m                                  Traceback (most recent call last)",
      "Cell \u001b[1;32mIn[16], line 1\u001b[0m\n\u001b[1;32m----> 1\u001b[0m dict1\u001b[38;5;241m.\u001b[39mpop(\u001b[38;5;124m\"\u001b[39m\u001b[38;5;124mphone\u001b[39m\u001b[38;5;124m\"\u001b[39m)\n\u001b[0;32m      3\u001b[0m \u001b[38;5;28mprint\u001b[39m(dict1)\n\u001b[0;32m      5\u001b[0m \u001b[38;5;66;03m# dict1.popitem() will give an error cause newly inserted was phone and it is already deleted\u001b[39;00m\n\u001b[0;32m      6\u001b[0m \n\u001b[0;32m      7\u001b[0m \u001b[38;5;66;03m# print(dict1)\u001b[39;00m\n",
      "\u001b[1;31mKeyError\u001b[0m: 'phone'"
     ]
    }
   ],
   "source": [
    "dict1.pop(\"phone\")\n",
    "\n",
    "print(dict1)\n",
    "\n",
    "# dict1.popitem() will give an error cause newly inserted was phone and it is already deleted\n",
    "# print(dict1)\n",
    "\n",
    "\n"
   ]
  },
  {
   "cell_type": "code",
   "execution_count": 17,
   "metadata": {},
   "outputs": [
    {
     "name": "stdout",
     "output_type": "stream",
     "text": [
      "{'name': 'Vraj', 'Num': 32}\n",
      "{}\n"
     ]
    }
   ],
   "source": [
    "del dict1[\"age\"]\n",
    "print(dict1)\n",
    "\n",
    "dict1.clear()\n",
    "print(dict1)\n",
    "\n",
    "del dict1\n"
   ]
  },
  {
   "cell_type": "markdown",
   "metadata": {},
   "source": [
    "looping through the dictionary"
   ]
  },
  {
   "cell_type": "code",
   "execution_count": 23,
   "metadata": {},
   "outputs": [
    {
     "name": "stdout",
     "output_type": "stream",
     "text": [
      "name Vraj\n",
      "Num 32\n",
      "name\n",
      "Num\n",
      "Vraj\n",
      "32\n",
      "('name', 'Vraj')\n",
      "('Num', 32)\n"
     ]
    }
   ],
   "source": [
    "dict1 = {\"name\" : \"Vraj\", \"Num\" : 32}\n",
    "\n",
    "for x in dict1:\n",
    "    print(x, dict1[x])\n",
    "    \n",
    "for x in dict1.keys():\n",
    "    print(x)\n",
    "    \n",
    "for x in dict1.values():\n",
    "    print(x)\n",
    "\n",
    "for x in dict1.items():\n",
    "    print(x)\n"
   ]
  },
  {
   "cell_type": "markdown",
   "metadata": {},
   "source": [
    "Copy Dictionary"
   ]
  },
  {
   "cell_type": "code",
   "execution_count": 24,
   "metadata": {},
   "outputs": [
    {
     "name": "stdout",
     "output_type": "stream",
     "text": [
      "{'name': 'Vraj', 'Num': 32}\n",
      "\n",
      " copied dictionary:  {'name': 'Vipul', 'Num': 32}\n",
      "\n",
      " og dictionary:  {'name': 'Vipul', 'Num': 32}\n"
     ]
    }
   ],
   "source": [
    "##shallow copy\n",
    "\n",
    "copy_dict1 = dict1\n",
    "print(copy_dict1)\n",
    "\n",
    "copy_dict1[\"name\"] = \"Vipul\"\n",
    "print(\"\\n copied dictionary: \", copy_dict1)\n",
    "print(\"\\n og dictionary: \", dict1)\n"
   ]
  },
  {
   "cell_type": "code",
   "execution_count": 25,
   "metadata": {},
   "outputs": [
    {
     "name": "stdout",
     "output_type": "stream",
     "text": [
      "{'name': 'Vipul', 'Num': 32}\n",
      "\n",
      " copied dictionary:  {'name': 'Vipul', 'Num': 32}\n",
      "\n",
      " og dictionary:  {'name': 'Vraj', 'Num': 32}\n"
     ]
    }
   ],
   "source": [
    "# deep copy\n",
    "\n",
    "copy_dict2 = dict1.copy()\n",
    "print(copy_dict2)\n",
    "\n",
    "dict1[\"name\"] = \"Vraj\"\n",
    "print(\"\\n copied dictionary: \", copy_dict2)\n",
    "print(\"\\n og dictionary: \", dict1)"
   ]
  }
 ],
 "metadata": {
  "kernelspec": {
   "display_name": "base",
   "language": "python",
   "name": "python3"
  },
  "language_info": {
   "codemirror_mode": {
    "name": "ipython",
    "version": 3
   },
   "file_extension": ".py",
   "mimetype": "text/x-python",
   "name": "python",
   "nbconvert_exporter": "python",
   "pygments_lexer": "ipython3",
   "version": "3.12.7"
  }
 },
 "nbformat": 4,
 "nbformat_minor": 2
}
