{
 "cells": [
  {
   "cell_type": "code",
   "execution_count": 1,
   "metadata": {},
   "outputs": [
    {
     "ename": "FileNotFoundError",
     "evalue": "[Errno 2] No such file or directory: 'test.txt'",
     "output_type": "error",
     "traceback": [
      "\u001b[1;31m---------------------------------------------------------------------------\u001b[0m",
      "\u001b[1;31mFileNotFoundError\u001b[0m                         Traceback (most recent call last)",
      "Cell \u001b[1;32mIn[1], line 1\u001b[0m\n\u001b[1;32m----> 1\u001b[0m myfile \u001b[38;5;241m=\u001b[39m \u001b[38;5;28mopen\u001b[39m(\u001b[38;5;124m\"\u001b[39m\u001b[38;5;124mtest.txt\u001b[39m\u001b[38;5;124m\"\u001b[39m, \u001b[38;5;124m\"\u001b[39m\u001b[38;5;124mr\u001b[39m\u001b[38;5;124m\"\u001b[39m)\n",
      "File \u001b[1;32mc:\\Users\\VrajDesai\\anaconda3\\Lib\\site-packages\\IPython\\core\\interactiveshell.py:324\u001b[0m, in \u001b[0;36m_modified_open\u001b[1;34m(file, *args, **kwargs)\u001b[0m\n\u001b[0;32m    317\u001b[0m \u001b[38;5;28;01mif\u001b[39;00m file \u001b[38;5;129;01min\u001b[39;00m {\u001b[38;5;241m0\u001b[39m, \u001b[38;5;241m1\u001b[39m, \u001b[38;5;241m2\u001b[39m}:\n\u001b[0;32m    318\u001b[0m     \u001b[38;5;28;01mraise\u001b[39;00m \u001b[38;5;167;01mValueError\u001b[39;00m(\n\u001b[0;32m    319\u001b[0m         \u001b[38;5;124mf\u001b[39m\u001b[38;5;124m\"\u001b[39m\u001b[38;5;124mIPython won\u001b[39m\u001b[38;5;124m'\u001b[39m\u001b[38;5;124mt let you open fd=\u001b[39m\u001b[38;5;132;01m{\u001b[39;00mfile\u001b[38;5;132;01m}\u001b[39;00m\u001b[38;5;124m by default \u001b[39m\u001b[38;5;124m\"\u001b[39m\n\u001b[0;32m    320\u001b[0m         \u001b[38;5;124m\"\u001b[39m\u001b[38;5;124mas it is likely to crash IPython. If you know what you are doing, \u001b[39m\u001b[38;5;124m\"\u001b[39m\n\u001b[0;32m    321\u001b[0m         \u001b[38;5;124m\"\u001b[39m\u001b[38;5;124myou can use builtins\u001b[39m\u001b[38;5;124m'\u001b[39m\u001b[38;5;124m open.\u001b[39m\u001b[38;5;124m\"\u001b[39m\n\u001b[0;32m    322\u001b[0m     )\n\u001b[1;32m--> 324\u001b[0m \u001b[38;5;28;01mreturn\u001b[39;00m io_open(file, \u001b[38;5;241m*\u001b[39margs, \u001b[38;5;241m*\u001b[39m\u001b[38;5;241m*\u001b[39mkwargs)\n",
      "\u001b[1;31mFileNotFoundError\u001b[0m: [Errno 2] No such file or directory: 'test.txt'"
     ]
    }
   ],
   "source": [
    "myfile = open(\"test.txt\", \"r\")"
   ]
  },
  {
   "cell_type": "code",
   "execution_count": 5,
   "metadata": {},
   "outputs": [
    {
     "name": "stdout",
     "output_type": "stream",
     "text": [
      "Hi, Crest Info System\n",
      "My name is Vraj Desai\n",
      "I am 321 years old.\n",
      "\n"
     ]
    }
   ],
   "source": [
    "myfile = open(\"test.txt\")\n",
    "\n",
    "print(myfile.read())"
   ]
  },
  {
   "cell_type": "markdown",
   "metadata": {},
   "source": [
    "Reading File"
   ]
  },
  {
   "cell_type": "code",
   "execution_count": 14,
   "metadata": {},
   "outputs": [
    {
     "name": "stdout",
     "output_type": "stream",
     "text": [
      "rest Info System\n",
      "My name is Vraj Desai\n",
      "I am 321 years old.\n",
      "\n",
      "Hi, Crest Info System\n",
      "My name is Vraj Desai\n",
      "I am 321 years old.\n",
      "\n",
      "['Hi, Crest Info System\\n', 'My name is Vraj Desai\\n', 'I am 321 years old.\\n']\n",
      "Hi, C\n"
     ]
    }
   ],
   "source": [
    "#after reading the file it goes to the end of the file so we read it again it will not give anything\n",
    "\n",
    "print(myfile.read())\n",
    "\n",
    "#to go to the initial of the file that is at the 0 index of the file\n",
    "myfile.seek(0)\n",
    "print(myfile.read())\n",
    "\n",
    "# Readlines returns a list of the lines in the file\n",
    "myfile.seek(0)\n",
    "print(myfile.readlines())\n",
    "\n",
    "#read only part of the file\n",
    "myfile.seek(0)\n",
    "print(myfile.read(5))\n",
    "\n",
    "#closing the file\n",
    "myfile.close()\n"
   ]
  },
  {
   "cell_type": "markdown",
   "metadata": {},
   "source": [
    "Writing File"
   ]
  },
  {
   "cell_type": "code",
   "execution_count": null,
   "metadata": {},
   "outputs": [],
   "source": [
    "#Write to the file but it would overwrite whatever previously written in the file\n",
    "my_file = open(\"test.txt\", \"w\") # if the file is not there in the folder then it would create one\n",
    "my_file.write(\"This is a new line\")\n",
    "my_file.close()\n",
    "\n",
    "my_file = open(\"test.txt\", \"w+\")\n",
    "my_file.write(\"this is using w+\")\n",
    "my_file.close()\n"
   ]
  },
  {
   "cell_type": "markdown",
   "metadata": {},
   "source": [
    "Appending File"
   ]
  },
  {
   "cell_type": "code",
   "execution_count": 26,
   "metadata": {},
   "outputs": [],
   "source": [
    "# Appending to the file\n",
    "myfile = open(\"append.txt\", \"a\")\n",
    "myfile.write(\"This is the append file\")\n",
    "myfile.close()\n",
    "\n",
    "myfile = open(\"append.txt\", \"a+\")\n",
    "myfile.write(\"\\n This is in the append file using the a+\")\n",
    "myfile.close()\n",
    "\n",
    "lines = [\"\\nfirst line\\n\", \"second line\\n\",\"third line\\n\",\"fourth line\\n\"]\n",
    "\n",
    "#adding multiple lines at the same time\n",
    "myfile = open(\"append.txt\", \"a+\")\n",
    "myfile.writelines(lines)\n",
    "myfile.close()"
   ]
  },
  {
   "cell_type": "markdown",
   "metadata": {},
   "source": [
    "Copying the file"
   ]
  },
  {
   "cell_type": "code",
   "execution_count": 30,
   "metadata": {},
   "outputs": [],
   "source": [
    "myfile = open(\"append.txt\", \"r\")\n",
    "\n",
    "content = myfile.read()\n",
    "myfile.close()\n",
    "\n",
    "copyfile = open(\"copyfile.txt\", \"a\")\n",
    "\n",
    "copyfile.write(content)\n",
    "copyfile.close()\n"
   ]
  },
  {
   "cell_type": "markdown",
   "metadata": {},
   "source": [
    "Reading the file and getting the number of lines, words and characters in it"
   ]
  },
  {
   "cell_type": "code",
   "execution_count": 42,
   "metadata": {},
   "outputs": [
    {
     "name": "stdout",
     "output_type": "stream",
     "text": [
      "Total number of lines are: 7\n",
      "Total number of words are: 35\n",
      "Total number of characters are: 138\n"
     ]
    }
   ],
   "source": [
    "myfile = open(\"append.txt\", \"r\")\n",
    "\n",
    "#getting the no of lines\n",
    "lines = myfile.readlines()\n",
    "total_lines = len(lines)\n",
    "print(f\"Total number of lines are: {total_lines}\")\n",
    "\n",
    "#getting the no of words\n",
    "# print(lines)\n",
    "total_words = 0\n",
    "total_characters = 0\n",
    "for line in lines:\n",
    "    words = line.split()\n",
    "    total_words += len(words)\n",
    "    for ch in words:\n",
    "        total_characters += len(ch)\n",
    "\n",
    "print(f\"Total number of words are: {total_words}\")\n",
    "print(f\"Total number of characters are: {total_characters}\")\n",
    "\n"
   ]
  },
  {
   "cell_type": "code",
   "execution_count": null,
   "metadata": {},
   "outputs": [],
   "source": []
  }
 ],
 "metadata": {
  "kernelspec": {
   "display_name": "base",
   "language": "python",
   "name": "python3"
  },
  "language_info": {
   "codemirror_mode": {
    "name": "ipython",
    "version": 3
   },
   "file_extension": ".py",
   "mimetype": "text/x-python",
   "name": "python",
   "nbconvert_exporter": "python",
   "pygments_lexer": "ipython3",
   "version": "3.12.7"
  }
 },
 "nbformat": 4,
 "nbformat_minor": 2
}
