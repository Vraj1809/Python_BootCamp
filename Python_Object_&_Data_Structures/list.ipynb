{
 "cells": [
  {
   "cell_type": "markdown",
   "metadata": {},
   "source": [
    "List Creation"
   ]
  },
  {
   "cell_type": "code",
   "execution_count": 2,
   "metadata": {},
   "outputs": [
    {
     "name": "stdout",
     "output_type": "stream",
     "text": [
      "['apple', 'Mango', 'Strawberry']\n",
      "['apple', 'Mango', 'Strawberry', 'apple']\n"
     ]
    }
   ],
   "source": [
    "list1 = [\"apple\", \"Mango\", \"Strawberry\"]\n",
    "list2 = list((\"apple\", \"Mango\", \"Strawberry\", \"apple\"))\n",
    "\n",
    "print(list1)\n",
    "print(list2)\n"
   ]
  },
  {
   "cell_type": "markdown",
   "metadata": {},
   "source": [
    "List Access\n",
    "- using index (positive, negative)\n",
    "- using slicing (positive, negative)"
   ]
  },
  {
   "cell_type": "code",
   "execution_count": 4,
   "metadata": {},
   "outputs": [
    {
     "name": "stdout",
     "output_type": "stream",
     "text": [
      "apple\n",
      "apple\n",
      "['Mango', 'Strawberry']\n",
      "['Mango', 'Strawberry']\n",
      "Apple is in the list\n"
     ]
    }
   ],
   "source": [
    "print(list1[0])\n",
    "\n",
    "print(list2[-1])\n",
    "\n",
    "print(list1[1:4])\n",
    "\n",
    "print(list2[-3:-1])\n",
    "\n",
    "#checking if the item is in the list\n",
    "if \"apple\" in list1:\n",
    "    print(\"Apple is in the list\")\n",
    "else:\n",
    "    print(\"Apple is not in the list\")\n",
    "    "
   ]
  },
  {
   "cell_type": "markdown",
   "metadata": {},
   "source": [
    "Change list items\n",
    "- using index and slicing\n",
    "- using index change only one item at a time\n",
    "- using slicing change more than one item, while if given the same number of items as per mentioned then only that range would be affected but if given more number of item than that of mentioned then the whole list would be affected"
   ]
  },
  {
   "cell_type": "code",
   "execution_count": 5,
   "metadata": {},
   "outputs": [
    {
     "name": "stdout",
     "output_type": "stream",
     "text": [
      "['Berries', 'Mango', 'Strawberry']\n",
      "['apple', 'Mango', 'Guava', 'Berries', 'apple']\n"
     ]
    }
   ],
   "source": [
    "list1[0] = \"Berries\"\n",
    "\n",
    "print(list1)\n",
    "\n",
    "list2[-2:-1]  = [\"Guava\", \"Berries\"] #whole list2 is affected\n",
    "\n",
    "print(list2)\n"
   ]
  },
  {
   "cell_type": "markdown",
   "metadata": {},
   "source": [
    "Add List Items\n",
    "- append\n",
    "- insert\n",
    "- extend"
   ]
  },
  {
   "cell_type": "code",
   "execution_count": 6,
   "metadata": {},
   "outputs": [
    {
     "name": "stdout",
     "output_type": "stream",
     "text": [
      "['Berries', 'Mango', 'Strawberry', 'Watermelons']\n",
      "['Berries', 'Pineapples', 'Mango', 'Strawberry', 'Watermelons', 'apple', 'Mango', 'Guava', 'Berries', 'apple']\n",
      "['Berries', 'Pineapples', 'Mango', 'Strawberry', 'Watermelons', 'apple', 'Mango', 'Guava', 'Berries', 'apple', 'grapes', 'kiwi']\n"
     ]
    }
   ],
   "source": [
    "list1.append(\"Watermelons\") #insert at the end\n",
    "print(list1)\n",
    "\n",
    "list1.insert(1, \"Pineapples\") #insert at specific index\n",
    "\n",
    "list1.extend(list2) #extend\n",
    "print(list1)\n",
    "\n",
    "fruits = (\"grapes\", \"kiwi\")\n",
    "\n",
    "list1.extend(fruits) # can extend any iterables\n",
    "print(list1)\n"
   ]
  },
  {
   "cell_type": "markdown",
   "metadata": {},
   "source": [
    "Remove List Items\n",
    "- remove (item, if more than one then the whole item)\n",
    "- del (using index, the whole list)\n",
    "- pop (using index)\n",
    "- clear"
   ]
  },
  {
   "cell_type": "code",
   "execution_count": 8,
   "metadata": {},
   "outputs": [
    {
     "name": "stdout",
     "output_type": "stream",
     "text": [
      "['apple', 'cherry', 'banana', 'kiwi']\n",
      "['apple', 'cherry']\n",
      "['apple', 'banana']\n",
      "['banana', 'cherry']\n",
      "[]\n"
     ]
    }
   ],
   "source": [
    "thislist = [\"apple\", \"banana\", \"cherry\", \"banana\", \"kiwi\"]\n",
    "thislist.remove(\"banana\")\n",
    "print(thislist)\n",
    "\n",
    "thislist = [\"apple\", \"banana\", \"cherry\"]\n",
    "thislist.pop(1)\n",
    "print(thislist)\n",
    "\n",
    "thislist = [\"apple\", \"banana\", \"cherry\"]\n",
    "thislist.pop() #remove the last element if index not given\n",
    "print(thislist)\n",
    "\n",
    "thislist = [\"apple\", \"banana\", \"cherry\"]\n",
    "del thislist[0]\n",
    "print(thislist)\n",
    "\n",
    "thislist = [\"apple\", \"banana\", \"cherry\"]\n",
    "del thislist\n",
    "\n",
    "thislist = [\"apple\", \"banana\", \"cherry\"]\n",
    "thislist.clear()\n",
    "print(thislist) #list still remains"
   ]
  },
  {
   "cell_type": "markdown",
   "metadata": {},
   "source": [
    "SOrting list"
   ]
  },
  {
   "cell_type": "code",
   "execution_count": 10,
   "metadata": {},
   "outputs": [
    {
     "name": "stdout",
     "output_type": "stream",
     "text": [
      "['Kiwi', 'Orange', 'banana', 'cherry']\n",
      "['banana', 'cherry', 'Kiwi', 'Orange']\n",
      "['cherry', 'banana', 'Orange', 'Kiwi']\n"
     ]
    }
   ],
   "source": [
    "#using sort function: it is case sensitive so capital letters would come first before small letters, bydefault ascending order\n",
    "thislist = [\"banana\", \"Orange\", \"Kiwi\", \"cherry\"]\n",
    "thislist.sort()\n",
    "print(thislist)\n",
    "\n",
    "thislist = [\"banana\", \"Orange\", \"Kiwi\", \"cherry\"]\n",
    "thislist.sort(key = str.lower) # to sort list case insensitively\n",
    "print(thislist)\n",
    "\n",
    "# to sort in descending order\n",
    "thislist = [\"banana\", \"Orange\", \"Kiwi\", \"cherry\"]\n",
    "thislist.sort(reverse = True)\n",
    "print(thislist)"
   ]
  },
  {
   "cell_type": "markdown",
   "metadata": {},
   "source": [
    "List Comprehension\n",
    "\n",
    "The Syntax\n",
    "newlist = [expression for item in iterable if condition == True]"
   ]
  },
  {
   "cell_type": "code",
   "execution_count": 12,
   "metadata": {},
   "outputs": [
    {
     "name": "stdout",
     "output_type": "stream",
     "text": [
      "['orange', 'Orange', 'Kiwi', 'cherry']\n"
     ]
    }
   ],
   "source": [
    "fruits = [\"banana\", \"Orange\", \"Kiwi\", \"cherry\"]\n",
    "newlist = [x if x != \"banana\" else \"orange\" for x in fruits]\n",
    "\n",
    "print(newlist)"
   ]
  },
  {
   "cell_type": "markdown",
   "metadata": {},
   "source": [
    "Copy List"
   ]
  },
  {
   "cell_type": "code",
   "execution_count": 15,
   "metadata": {},
   "outputs": [
    {
     "name": "stdout",
     "output_type": "stream",
     "text": [
      "['banana', 'Orange', 'Kiwi', 'cherry']\n",
      "['banana', 'Orange', 'Kiwi', 'cherry']\n",
      "['banana', 'Orange', 'Kiwi', 'cherry']\n"
     ]
    }
   ],
   "source": [
    "# copy method \n",
    "fruits = [\"banana\", \"Orange\", \"Kiwi\", \"cherry\"]\n",
    "\n",
    "copylist = fruits.copy()\n",
    "\n",
    "print(copylist)\n",
    "\n",
    "# using list method\n",
    "\n",
    "copylist2 = list(fruits)\n",
    "\n",
    "print(copylist2)\n",
    "\n",
    "#using slicing \n",
    "\n",
    "copylist3 = fruits[:]\n",
    "\n",
    "print(copylist3)\n"
   ]
  },
  {
   "cell_type": "code",
   "execution_count": null,
   "metadata": {},
   "outputs": [],
   "source": []
  }
 ],
 "metadata": {
  "kernelspec": {
   "display_name": "base",
   "language": "python",
   "name": "python3"
  },
  "language_info": {
   "codemirror_mode": {
    "name": "ipython",
    "version": 3
   },
   "file_extension": ".py",
   "mimetype": "text/x-python",
   "name": "python",
   "nbconvert_exporter": "python",
   "pygments_lexer": "ipython3",
   "version": "3.12.7"
  }
 },
 "nbformat": 4,
 "nbformat_minor": 2
}
