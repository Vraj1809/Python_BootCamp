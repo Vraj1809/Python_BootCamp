{
 "cells": [
  {
   "cell_type": "code",
   "execution_count": 1,
   "metadata": {},
   "outputs": [
    {
     "name": "stdout",
     "output_type": "stream",
     "text": [
      "5 <class 'int'>\n",
      "3.14 <class 'float'>\n"
     ]
    }
   ],
   "source": [
    "a = 5\n",
    "b = 3.14\n",
    "\n",
    "print(a, type(a))\n",
    "print(b, type(b))\n"
   ]
  },
  {
   "cell_type": "code",
   "execution_count": 2,
   "metadata": {},
   "outputs": [
    {
     "name": "stdout",
     "output_type": "stream",
     "text": [
      "Sum:  15\n",
      "Subtraction:  5\n",
      "Multiplication:  50\n",
      "Division:  2.0\n",
      "Modulus:  0\n",
      "Exponentiation:  100000\n",
      "Floor Division:  2\n"
     ]
    }
   ],
   "source": [
    "#Arithmetic\n",
    "\n",
    "a = int(input(\"Enter Number: \"))\n",
    "b = int(input(\"Enter Number: \"))\n",
    "\n",
    "sum = a + b\n",
    "sub = a - b\n",
    "mul = a * b\n",
    "div = a / b\n",
    "mod = a % b\n",
    "expo = a ** b\n",
    "fdiv = a // b\n",
    "\n",
    "print(\"Sum: \", sum)\n",
    "\n",
    "print(\"Subtraction: \", sub)\n",
    "\n",
    "print(\"Multiplication: \", mul)\n",
    "\n",
    "print(\"Division: \", div)\n",
    "\n",
    "print(\"Modulus: \", mod)\n",
    "\n",
    "print(\"Exponentiation: \", expo)\n",
    "\n",
    "print(\"Floor Division: \", fdiv)\n"
   ]
  },
  {
   "cell_type": "code",
   "execution_count": 3,
   "metadata": {},
   "outputs": [
    {
     "name": "stdout",
     "output_type": "stream",
     "text": [
      "Before the use of parenthesis:  108\n",
      "After the use of parenthesis:  195\n"
     ]
    }
   ],
   "source": [
    "# use of parenthesis\n",
    "\n",
    "sum = 5 + 10 * 10 + 3\n",
    "\n",
    "print(\"Before the use of parenthesis: \", sum)\n",
    "\n",
    "sum = (5 + 10) * (10 + 3)\n",
    "\n",
    "print(\"After the use of parenthesis: \", sum)\n",
    "\n"
   ]
  }
 ],
 "metadata": {
  "kernelspec": {
   "display_name": "base",
   "language": "python",
   "name": "python3"
  },
  "language_info": {
   "codemirror_mode": {
    "name": "ipython",
    "version": 3
   },
   "file_extension": ".py",
   "mimetype": "text/x-python",
   "name": "python",
   "nbconvert_exporter": "python",
   "pygments_lexer": "ipython3",
   "version": "3.12.7"
  }
 },
 "nbformat": 4,
 "nbformat_minor": 2
}
