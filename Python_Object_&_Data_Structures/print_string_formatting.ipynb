{
 "cells": [
  {
   "cell_type": "markdown",
   "metadata": {},
   "source": [
    "Format using the % (string formatting operator)"
   ]
  },
  {
   "cell_type": "code",
   "execution_count": 8,
   "metadata": {},
   "outputs": [
    {
     "name": "stdout",
     "output_type": "stream",
     "text": [
      "My name is Vraj Desai\n",
      "My name is Vraj Desai\n",
      "My name is Vraj\n",
      "My name is 'Vraj'\n",
      "My name is \tVraj\n",
      "My name is '\\tVraj'\n",
      "3.14\n",
      "3\n",
      "13.14\n",
      "               1.000\n",
      "First: hi!, Second:  3.14, Third: 'bye!'\n"
     ]
    }
   ],
   "source": [
    "print(\"My name is %s %s\" %('Vraj', 'Desai')) # passing multiple arguments\n",
    "\n",
    "fname = \"Vraj\"\n",
    "lname = \"Desai\"\n",
    "print(\"My name is %s %s\" %(fname, lname)) # passing multiple arguments\n",
    "\n",
    "print(\"My name is %s\" %\"Vraj\") # %s used for str() method which returns the string \n",
    "print(\"My name is %r\" %\"Vraj\") # %r used for repr() method which delivers the string representation of the object including quotations and escape sequences\n",
    "\n",
    "print(\"My name is %s\" %\"\\tVraj\")\n",
    "print(\"My name is %r\" %\"\\tVraj\")\n",
    "\n",
    "# for precision %s converts int or float into a string while %d converts numbers to integers without rounding\n",
    "print(\"%s\" %3.14)\n",
    "print(\"%d\" %3.14)\n",
    "\n",
    "# padding and precision  for example %5.2f then 5 being the minimum number of characters the string should contain and 2 being the number of numbers there should be after the decimal point\n",
    "print('%5.2f' %(13.144))\n",
    "print(\"%20.3f\" %(1))\n",
    "\n",
    "# all of the formaatting combined\n",
    "print('First: %s, Second: %5.2f, Third: %r' %('hi!',3.1415,'bye!'))"
   ]
  },
  {
   "cell_type": "markdown",
   "metadata": {},
   "source": [
    "Format using the .format() method"
   ]
  },
  {
   "cell_type": "code",
   "execution_count": 16,
   "metadata": {},
   "outputs": [
    {
     "name": "stdout",
     "output_type": "stream",
     "text": [
      "my name is Vraj\n",
      "my name is Vraj Desai\n",
      "My name is Vraj Desai\n",
      "My name is Vraj Vraj\n",
      "My name is Vraj Vraj\n",
      "\n",
      " Fruit    | Quantity \n",
      "Apples   |       3.0\n",
      "Oranges  |        10\n",
      "\n",
      " Left     |  Center  |    Right\n",
      "11       |    22    |       33\n",
      "\n",
      " Left==== | -Center- | ...Right\n",
      "11====== | ---22--- | ......33\n"
     ]
    }
   ],
   "source": [
    "print(\"my name is {}\".format(\"Vraj\"))\n",
    "\n",
    "#using index\n",
    "print(\"my name is {0} {1}\".format(\"Vraj\", \"Desai\"))\n",
    "\n",
    "#using the assignment or key value pair\n",
    "print(\"My name is {fname} {lname}\".format(fname = \"Vraj\", lname = \"Desai\"))\n",
    "\n",
    "#object reusability\n",
    "print(\"My name is {fname} {fname}\".format(fname = \"Vraj\"))\n",
    "print(\"My name is %s %s\" %(\"Vraj\", \"Vraj\"))\n",
    "\n",
    "\n",
    "\n",
    "# Alignment, padding and precision with .format()\n",
    "print('\\n {0:8} | {1:9}'.format('Fruit', 'Quantity'))\n",
    "print('{0:8} | {1:9}'.format('Apples', 3.))\n",
    "print('{0:8} | {1:9}'.format('Oranges', 10))\n",
    "\n",
    "\n",
    "print('\\n {0:<8} | {1:^8} | {2:>8}'.format('Left','Center','Right'))\n",
    "print('{0:<8} | {1:^8} | {2:>8}'.format(11,22,33))\n",
    "\n",
    "print('\\n {0:=<8} | {1:-^8} | {2:.>8}'.format('Left','Center','Right'))\n",
    "print('{0:=<8} | {1:-^8} | {2:.>8}'.format(11,22,33))\n",
    "\n"
   ]
  },
  {
   "cell_type": "markdown",
   "metadata": {},
   "source": [
    "Format using the f String"
   ]
  },
  {
   "cell_type": "code",
   "execution_count": 13,
   "metadata": {},
   "outputs": [
    {
     "name": "stdout",
     "output_type": "stream",
     "text": [
      "My name is Vraj\n"
     ]
    }
   ],
   "source": [
    "name = \"Vraj\"\n",
    "\n",
    "print(f\"My name is {name}\")\n",
    "\n",
    "\n"
   ]
  }
 ],
 "metadata": {
  "kernelspec": {
   "display_name": "base",
   "language": "python",
   "name": "python3"
  },
  "language_info": {
   "codemirror_mode": {
    "name": "ipython",
    "version": 3
   },
   "file_extension": ".py",
   "mimetype": "text/x-python",
   "name": "python",
   "nbconvert_exporter": "python",
   "pygments_lexer": "ipython3",
   "version": "3.12.7"
  }
 },
 "nbformat": 4,
 "nbformat_minor": 2
}
