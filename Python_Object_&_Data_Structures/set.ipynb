{
 "cells": [
  {
   "cell_type": "markdown",
   "metadata": {},
   "source": [
    "Set Creation"
   ]
  },
  {
   "cell_type": "code",
   "execution_count": 4,
   "metadata": {},
   "outputs": [
    {
     "name": "stdout",
     "output_type": "stream",
     "text": [
      "{'Mango', 'Strawberry', 'apple'}\n",
      "{'Mango', 'Strawberry', 'apple'}\n",
      "{'banana', 'cherry', 'apple'}\n",
      "{True, 2, 'cherry', 'banana', 'apple'}\n"
     ]
    }
   ],
   "source": [
    "set1 = {\"apple\", \"Mango\", \"Strawberry\"}\n",
    "set2 = set((\"apple\", \"Mango\", \"Strawberry\", \"apple\"))\n",
    "\n",
    "print(set1)\n",
    "print(set2)\n",
    "\n",
    "#duplicates are not allowed and if entered then would be ignored\n",
    "thisset = {\"apple\", \"banana\", \"cherry\", \"apple\"}\n",
    "print(thisset)\n",
    "\n",
    "thisset = {\"apple\", \"banana\", \"cherry\", True, 1, 2} # true and 1 are considered same in the set so are ignored as well as false and 0\n",
    "print(thisset)\n"
   ]
  },
  {
   "cell_type": "markdown",
   "metadata": {},
   "source": [
    "set Access\n",
    "- since it is unordered we can't access the set using index, only have to use for loop to access the items"
   ]
  },
  {
   "cell_type": "code",
   "execution_count": 5,
   "metadata": {},
   "outputs": [
    {
     "name": "stdout",
     "output_type": "stream",
     "text": [
      "Apple is in the list\n"
     ]
    }
   ],
   "source": [
    "if \"apple\" in set1:\n",
    "    print(\"Apple is in the list\")\n",
    "else:\n",
    "    print(\"Apple is not in the list\")\n",
    "    "
   ]
  },
  {
   "cell_type": "markdown",
   "metadata": {},
   "source": [
    "Change set items\n",
    "- set is unchangable, so we can't change the set, but we can add or remove items from the set"
   ]
  },
  {
   "cell_type": "code",
   "execution_count": 6,
   "metadata": {},
   "outputs": [
    {
     "ename": "TypeError",
     "evalue": "'set' object does not support item assignment",
     "output_type": "error",
     "traceback": [
      "\u001b[1;31m---------------------------------------------------------------------------\u001b[0m",
      "\u001b[1;31mTypeError\u001b[0m                                 Traceback (most recent call last)",
      "Cell \u001b[1;32mIn[6], line 1\u001b[0m\n\u001b[1;32m----> 1\u001b[0m set1[\u001b[38;5;241m0\u001b[39m] \u001b[38;5;241m=\u001b[39m \u001b[38;5;124m\"\u001b[39m\u001b[38;5;124mBerries\u001b[39m\u001b[38;5;124m\"\u001b[39m\n\u001b[0;32m      3\u001b[0m \u001b[38;5;28mprint\u001b[39m(set1)\n",
      "\u001b[1;31mTypeError\u001b[0m: 'set' object does not support item assignment"
     ]
    }
   ],
   "source": [
    "set1[0] = \"Berries\"\n",
    "\n",
    "print(set1)\n"
   ]
  },
  {
   "cell_type": "markdown",
   "metadata": {},
   "source": [
    "Add List Items\n",
    "- add\n",
    "- update"
   ]
  },
  {
   "cell_type": "code",
   "execution_count": 7,
   "metadata": {},
   "outputs": [
    {
     "name": "stdout",
     "output_type": "stream",
     "text": [
      "{'Mango', 'Watermelons', 'Strawberry', 'apple'}\n",
      "{'apple', 'Mango', 'Strawberry', 'Watermelons'}\n",
      "{'apple', 'kiwi', 'grapes', 'Mango', 'Strawberry', 'Watermelons'}\n"
     ]
    }
   ],
   "source": [
    "set1.add(\"Watermelons\") # added anywhere in the set\n",
    "print(set1)\n",
    "\n",
    "set1.update(set2) #add the set2 to set1\n",
    "print(set1)\n",
    "\n",
    "fruits = (\"grapes\", \"kiwi\")\n",
    "\n",
    "set1.update(fruits) # can update any iterables\n",
    "print(set1)\n"
   ]
  },
  {
   "cell_type": "markdown",
   "metadata": {},
   "source": [
    "Remove List Items\n",
    "- remove (using the item, if the item doesn't exits then it will raise an  error)\n",
    "- discard (using the item, if the item doesn't exist then it will not raise an error)\n",
    "- pop (will delete any random item)\n",
    "- clear ( clear the set)\n",
    "- del (delete entire the set)"
   ]
  },
  {
   "cell_type": "code",
   "execution_count": 9,
   "metadata": {},
   "outputs": [
    {
     "name": "stdout",
     "output_type": "stream",
     "text": [
      "{'kiwi', 'cherry', 'apple'}\n",
      "{'kiwi', 'cherry'}\n",
      "{'kiwi', 'cherry'}\n",
      "{'cherry'}\n"
     ]
    }
   ],
   "source": [
    "thisset = {\"apple\", \"banana\", \"cherry\", \"banana\", \"kiwi\"}\n",
    "thisset.remove(\"banana\")\n",
    "print(thisset)\n",
    "\n",
    "# thisset.remove(\"banana\")\n",
    "# print(thisset)\n",
    "\n",
    "thisset.discard(\"apple\")\n",
    "print(thisset)\n",
    "\n",
    "thisset.discard(\"apple\")\n",
    "print(thisset)\n",
    "\n",
    "thisset.pop()\n",
    "print(thisset)\n",
    "\n",
    "thisset.clear()\n",
    "\n",
    "thisset = [\"apple\", \"banana\", \"cherry\"]\n",
    "del thisset\n"
   ]
  },
  {
   "cell_type": "markdown",
   "metadata": {},
   "source": [
    "Join Sets\n",
    "There are several ways to join two or more sets in Python.\n",
    "\n",
    "- | or union() and update() methods joins all items from both sets.\n",
    "\n",
    "- intersection() method keeps ONLY the duplicates.\n",
    "\n",
    "- difference() method keeps the items from the first set that are not in the other set(s).\n",
    "\n",
    "- symmetric_difference() method keeps all items EXCEPT the duplicates."
   ]
  },
  {
   "cell_type": "code",
   "execution_count": 21,
   "metadata": {},
   "outputs": [
    {
     "name": "stdout",
     "output_type": "stream",
     "text": [
      "{'c', 1, 2, 'b', 3, 'a'}\n",
      "{'c', 1, 2, 'b', 3, 'a'}\n",
      "{1, 2, 3, 'a', 'c', 'b'}\n",
      "{1, 2, 3, 'a', 'c', 'b'}\n",
      "{'c', 1, 2, 'b', 3, 'a'}\n",
      "{'apple'}\n",
      "{'apple'}\n",
      "{'apple'}\n",
      "{'cherry', 'banana'}\n",
      "{'cherry', 'banana'}\n",
      "{'banana', 'cherry'}\n",
      "{'microsoft', 'cherry', 'banana', 'google'}\n",
      "{'microsoft', 'cherry', 'banana', 'google'}\n",
      "{'google', 'banana', 'cherry', 'microsoft'}\n"
     ]
    }
   ],
   "source": [
    "set1 = {\"a\", \"b\", \"c\"}\n",
    "set2 = {1, 2, 3}\n",
    "\n",
    "# ++++++++++++ UNION ++++++++++++++++++++++++\n",
    "set3 = set1.union(set2) # can join even other data structures\n",
    "print(set3)\n",
    "set4 = set1 | set2\n",
    "print(set4)\n",
    "set5 = set1.union(set2, set3)\n",
    "print(set5)\n",
    "set6 = set1 | set2 | set3\n",
    "print(set6)\n",
    "set1.update(set2) # update doesn't return a new set\n",
    "print(set1) \n",
    "\n",
    "#+++++++++ INTERSECTION +++++++++++++++\n",
    "set1 = {\"apple\", \"banana\", \"cherry\"}\n",
    "set2 = {\"google\", \"microsoft\", \"apple\"}\n",
    "set3 = set1.intersection(set2)\n",
    "print(set3)\n",
    "set4 = set1 & set2\n",
    "print(set4)\n",
    "set1.intersection_update(set2) #will also include only intersect items but will update the original set rather than giving a new set all together\n",
    "print(set1)\n",
    "\n",
    "\n",
    "# +++++++++++++ DIFFERENCE +++++++++++++++++\n",
    "set1 = {\"apple\", \"banana\", \"cherry\"}\n",
    "set2 = {\"google\", \"microsoft\", \"apple\"}\n",
    "set3 = set1.difference(set2)\n",
    "print(set3)\n",
    "set4 = set1 - set2\n",
    "print(set4)\n",
    "set1.difference_update(set2)\n",
    "print(set1)\n",
    "\n",
    "\n",
    "# ++++++++++++++++ SYMMETRIC DIFFERENCE ++++++++++++++++\n",
    "set1 = {\"apple\", \"banana\", \"cherry\"}\n",
    "set2 = {\"google\", \"microsoft\", \"apple\"}\n",
    "set3 = set1.symmetric_difference(set2)\n",
    "print(set3)\n",
    "set4 = set1 ^ set2\n",
    "print(set4)\n",
    "set1.symmetric_difference_update(set2)\n",
    "print(set1)\n"
   ]
  }
 ],
 "metadata": {
  "kernelspec": {
   "display_name": "base",
   "language": "python",
   "name": "python3"
  },
  "language_info": {
   "codemirror_mode": {
    "name": "ipython",
    "version": 3
   },
   "file_extension": ".py",
   "mimetype": "text/x-python",
   "name": "python",
   "nbconvert_exporter": "python",
   "pygments_lexer": "ipython3",
   "version": "3.12.7"
  }
 },
 "nbformat": 4,
 "nbformat_minor": 2
}
