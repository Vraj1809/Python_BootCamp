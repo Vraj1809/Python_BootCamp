{
 "cells": [
  {
   "cell_type": "code",
   "execution_count": 1,
   "metadata": {},
   "outputs": [
    {
     "data": {
      "text/plain": [
       "\"my name's is Vraj Desai\""
      ]
     },
     "execution_count": 1,
     "metadata": {},
     "output_type": "execute_result"
    }
   ],
   "source": [
    "# String\n",
    "'vraj'\n",
    "\"Desai\"\n",
    "\n",
    "\"my name's is Vraj Desai\"\n"
   ]
  },
  {
   "cell_type": "code",
   "execution_count": 2,
   "metadata": {},
   "outputs": [
    {
     "data": {
      "text/plain": [
       "'Desai'"
      ]
     },
     "execution_count": 2,
     "metadata": {},
     "output_type": "execute_result"
    }
   ],
   "source": [
    "#Printing the string\n",
    "\n",
    "\"Vraj\"\n",
    "\"Desai\" #will only print Desai "
   ]
  },
  {
   "cell_type": "code",
   "execution_count": 3,
   "metadata": {},
   "outputs": [
    {
     "name": "stdout",
     "output_type": "stream",
     "text": [
      "Vraj\n",
      "Desai\n"
     ]
    }
   ],
   "source": [
    "print(\"Vraj\")\n",
    "print(\"Desai\") #will print both Desai and Vraj\n"
   ]
  },
  {
   "cell_type": "code",
   "execution_count": 5,
   "metadata": {},
   "outputs": [
    {
     "name": "stdout",
     "output_type": "stream",
     "text": [
      "The length of the String Vraj Desai is 10 characters\n",
      "Indexing\n",
      "V\n",
      "a\n",
      "\n",
      " slicing\n",
      "ra\n",
      "Vraj\n",
      "Desai\n",
      "Vraj Desai\n",
      "\n",
      " Original String\n",
      "Vraj Desai\n",
      "\n",
      " Negative indexing\n",
      "i\n",
      "e\n",
      "\n",
      " Negative slicing\n",
      "sa\n",
      "Vraj Desa\n",
      "Desai\n",
      "\n",
      " printing the String with the use of step size\n",
      "Vraj Desai\n",
      "Vjei\n",
      "\n",
      " Priting the String with the use of negative step size\n",
      "iaseD jarV\n",
      "isDjr\n"
     ]
    }
   ],
   "source": [
    "str = \"Vraj Desai\"\n",
    "\n",
    "print(f\"The length of the String {str} is {len(str)} characters\")  #to find the length of the string\n",
    "\n",
    "#indexing\n",
    "print(\"Indexing\")\n",
    "print(str[0])\n",
    "print(str[2])  #indexing starts from 0 and will be able to access the characters of the string using the indexing \n",
    "\n",
    "#slicing \n",
    "print(\"\\n slicing\")\n",
    "print(str[1:3]) #will get a sequence of chaaracters using the indexing with 1 included and 3 being not included\n",
    "print(str[:4]) #from the start to mentioned index\n",
    "print(str[5:]) #from the 5th index to the end\n",
    "print(str[:]) # the whole string\n",
    "\n",
    "print(\"\\n Original String\")\n",
    "print(str) # there would vbe no change to the og string since strings  are immutable\n",
    "\n",
    "# negative indexing \n",
    "print(\"\\n Negative indexing\")\n",
    "print(str[-1]) # the first index would always be 0 but the last index would start from the -1\n",
    "print(str[-4])\n",
    "\n",
    "#negatiive slicing \n",
    "print(\"\\n Negative slicing\")\n",
    "print(str[-3:-1])\n",
    "print(str[:-1])\n",
    "print(str[-5:])\n",
    "\n",
    "print(\"\\n printing the String with the use of step size\")\n",
    "print(str[::1]) #will show everything but would be counting step size as 1\n",
    "print(str[::3]) #will show everything but would be counting step size as 3\n",
    "\n",
    "print(\"\\n Priting the String with the use of negative step size\")\n",
    "print(str[::-1]) # will show everything but would be counting step size as -1 that is mainly used for revsering a String\n",
    "print(str[::-2]) # will show everything but will be counting step size as -2"
   ]
  },
  {
   "cell_type": "markdown",
   "metadata": {},
   "source": [
    "String Properties"
   ]
  },
  {
   "cell_type": "code",
   "execution_count": 6,
   "metadata": {},
   "outputs": [
    {
     "ename": "TypeError",
     "evalue": "'str' object does not support item assignment",
     "output_type": "error",
     "traceback": [
      "\u001b[1;31m---------------------------------------------------------------------------\u001b[0m",
      "\u001b[1;31mTypeError\u001b[0m                                 Traceback (most recent call last)",
      "Cell \u001b[1;32mIn[6], line 4\u001b[0m\n\u001b[0;32m      1\u001b[0m \u001b[38;5;66;03m# immutability\u001b[39;00m\n\u001b[0;32m      2\u001b[0m \u001b[38;5;28mstr\u001b[39m \u001b[38;5;241m=\u001b[39m \u001b[38;5;124m\"\u001b[39m\u001b[38;5;124mVraj Desai\u001b[39m\u001b[38;5;124m\"\u001b[39m\n\u001b[1;32m----> 4\u001b[0m \u001b[38;5;28mstr\u001b[39m[\u001b[38;5;241m0\u001b[39m] \u001b[38;5;241m=\u001b[39m \u001b[38;5;124m\"\u001b[39m\u001b[38;5;124mv\u001b[39m\u001b[38;5;124m\"\u001b[39m\n",
      "\u001b[1;31mTypeError\u001b[0m: 'str' object does not support item assignment"
     ]
    }
   ],
   "source": [
    "# immutability\n",
    "str = \"Vraj Desai\"\n",
    "\n",
    "str[0] = \"v\" # will throw an error as strings are immutable"
   ]
  },
  {
   "cell_type": "code",
   "execution_count": 7,
   "metadata": {},
   "outputs": [
    {
     "name": "stdout",
     "output_type": "stream",
     "text": [
      "VrajDesai\n",
      "zzzzz\n"
     ]
    }
   ],
   "source": [
    "#String Concatination\n",
    "\n",
    "str1 = \"Vraj\"\n",
    "str2 = \"Desai\"\n",
    "\n",
    "str3 = str1 + str2\n",
    "print(str3)\n",
    "\n",
    "#String Repetition\n",
    "letter = \"z\"\n",
    "\n",
    "print(letter * 5)"
   ]
  },
  {
   "cell_type": "markdown",
   "metadata": {},
   "source": [
    "Built-in String Methods"
   ]
  },
  {
   "cell_type": "code",
   "execution_count": 11,
   "metadata": {},
   "outputs": [
    {
     "name": "stdout",
     "output_type": "stream",
     "text": [
      "String in uppercase VRAJ DESAI\n",
      "String in lowercase vraj desai\n",
      "splitting the string with the basic space between ['Vraj', 'Desai']\n",
      "Splitting the string with the deliimiter letter being a: ['Vr', 'j Des', 'i']\n"
     ]
    }
   ],
   "source": [
    "str = \"Vraj Desai\"\n",
    "\n",
    "print(f\"String in uppercase {str.upper()}\")\n",
    "\n",
    "print(f\"String in lowercase {str.lower()}\") \n",
    "\n",
    "#splitting the string\n",
    "\n",
    "print(f\"splitting the string with the basic space between {str.split()}\") # by default will split the string using the white space between them\n",
    "\n",
    "print(f\"Splitting the string with the deliimiter letter being a: {str.split(\"a\")}\") # using the delimiter we can split the string from the that delimiter letter\n"
   ]
  }
 ],
 "metadata": {
  "kernelspec": {
   "display_name": "base",
   "language": "python",
   "name": "python3"
  },
  "language_info": {
   "codemirror_mode": {
    "name": "ipython",
    "version": 3
   },
   "file_extension": ".py",
   "mimetype": "text/x-python",
   "name": "python",
   "nbconvert_exporter": "python",
   "pygments_lexer": "ipython3",
   "version": "3.12.7"
  }
 },
 "nbformat": 4,
 "nbformat_minor": 2
}
