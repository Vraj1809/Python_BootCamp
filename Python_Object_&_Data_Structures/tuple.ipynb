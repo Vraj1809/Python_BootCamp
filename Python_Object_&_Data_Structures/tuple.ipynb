{
 "cells": [
  {
   "cell_type": "markdown",
   "metadata": {},
   "source": [
    "Tuple Creation"
   ]
  },
  {
   "cell_type": "code",
   "execution_count": 1,
   "metadata": {},
   "outputs": [
    {
     "name": "stdout",
     "output_type": "stream",
     "text": [
      "('apple', 'Mango', 'Strawberry')\n",
      "('apple', 'Mango', 'Strawberry', 'apple')\n"
     ]
    }
   ],
   "source": [
    "tuple1 = (\"apple\", \"Mango\", \"Strawberry\")\n",
    "tuple2 = tuple((\"apple\", \"Mango\", \"Strawberry\", \"apple\"))\n",
    "\n",
    "print(tuple1)\n",
    "print(tuple2)\n"
   ]
  },
  {
   "cell_type": "markdown",
   "metadata": {},
   "source": [
    "Tuple Access\n",
    "- using index (positive, negative)\n",
    "- using slicing (positive, negative)"
   ]
  },
  {
   "cell_type": "code",
   "execution_count": 2,
   "metadata": {},
   "outputs": [
    {
     "name": "stdout",
     "output_type": "stream",
     "text": [
      "apple\n",
      "apple\n",
      "('Mango', 'Strawberry')\n",
      "('Mango', 'Strawberry')\n",
      "Apple is in the tuple\n"
     ]
    }
   ],
   "source": [
    "print(tuple1[0])\n",
    "\n",
    "print(tuple2[-1])\n",
    "\n",
    "print(tuple1[1:4])\n",
    "\n",
    "print(tuple2[-3:-1])\n",
    "\n",
    "#checking if the item is in the list\n",
    "if \"apple\" in tuple1:\n",
    "    print(\"Apple is in the tuple\")\n",
    "else:\n",
    "    print(\"Apple is not in the tuple\")\n",
    "    "
   ]
  },
  {
   "cell_type": "markdown",
   "metadata": {},
   "source": [
    "Change tuple items\n",
    "- are immutable"
   ]
  },
  {
   "cell_type": "code",
   "execution_count": 3,
   "metadata": {},
   "outputs": [
    {
     "ename": "TypeError",
     "evalue": "'tuple' object does not support item assignment",
     "output_type": "error",
     "traceback": [
      "\u001b[1;31m---------------------------------------------------------------------------\u001b[0m",
      "\u001b[1;31mTypeError\u001b[0m                                 Traceback (most recent call last)",
      "Cell \u001b[1;32mIn[3], line 1\u001b[0m\n\u001b[1;32m----> 1\u001b[0m tuple1[\u001b[38;5;241m0\u001b[39m] \u001b[38;5;241m=\u001b[39m \u001b[38;5;124m\"\u001b[39m\u001b[38;5;124mBerries\u001b[39m\u001b[38;5;124m\"\u001b[39m\n\u001b[0;32m      3\u001b[0m \u001b[38;5;28mprint\u001b[39m(tuple1)\n\u001b[0;32m      5\u001b[0m tuple2[\u001b[38;5;241m-\u001b[39m\u001b[38;5;241m2\u001b[39m:\u001b[38;5;241m-\u001b[39m\u001b[38;5;241m1\u001b[39m]  \u001b[38;5;241m=\u001b[39m [\u001b[38;5;124m\"\u001b[39m\u001b[38;5;124mGuava\u001b[39m\u001b[38;5;124m\"\u001b[39m, \u001b[38;5;124m\"\u001b[39m\u001b[38;5;124mBerries\u001b[39m\u001b[38;5;124m\"\u001b[39m] \u001b[38;5;66;03m#whole tuple2 is affected\u001b[39;00m\n",
      "\u001b[1;31mTypeError\u001b[0m: 'tuple' object does not support item assignment"
     ]
    }
   ],
   "source": [
    "tuple1[0] = \"Berries\"\n",
    "\n",
    "print(tuple1)\n",
    "\n",
    "tuple2[-2:-1]  = [\"Guava\", \"Berries\"] #whole tuple2 is affected\n",
    "\n",
    "print(tuple2)\n"
   ]
  },
  {
   "cell_type": "markdown",
   "metadata": {},
   "source": [
    "Tuples are immutable so adding, removing and chaning items are not allowed once the tuple is created but we can do it by first converting the tuple into list then perform whatever operation on that list and then convert it back to the tuple"
   ]
  },
  {
   "cell_type": "code",
   "execution_count": 4,
   "metadata": {},
   "outputs": [
    {
     "name": "stdout",
     "output_type": "stream",
     "text": [
      "('Apple', 'Mango', 'Guava')\n"
     ]
    }
   ],
   "source": [
    "tuple1 = (\"Apple\", \"Banana\", \"Guava\")\n",
    "\n",
    "list1 = list(tuple1)\n",
    "\n",
    "list1[1] = \"Mango\"\n",
    "\n",
    "tuple1 = tuple(list1)\n",
    "\n",
    "print(tuple1)\n"
   ]
  },
  {
   "cell_type": "code",
   "execution_count": 5,
   "metadata": {},
   "outputs": [
    {
     "name": "stdout",
     "output_type": "stream",
     "text": [
      "('Apple', 'Banana', 'Mango')\n"
     ]
    }
   ],
   "source": [
    "#adding tuple into tupple\n",
    "tuple1 = (\"Apple\", \"Banana\")\n",
    "\n",
    "tuple2 = (\"Mango\",)\n",
    "\n",
    "tuple1 += tuple2\n",
    "\n",
    "print(tuple1)"
   ]
  },
  {
   "cell_type": "code",
   "execution_count": 7,
   "metadata": {},
   "outputs": [
    {
     "ename": "NameError",
     "evalue": "name 'tuple1' is not defined",
     "output_type": "error",
     "traceback": [
      "\u001b[1;31m---------------------------------------------------------------------------\u001b[0m",
      "\u001b[1;31mNameError\u001b[0m                                 Traceback (most recent call last)",
      "Cell \u001b[1;32mIn[7], line 5\u001b[0m\n\u001b[0;32m      1\u001b[0m \u001b[38;5;66;03m# For removing item also first convert it to the list and then remove item ..... but we can delete the entire tuple \u001b[39;00m\n\u001b[0;32m      3\u001b[0m \u001b[38;5;28;01mdel\u001b[39;00m tuple1\n\u001b[1;32m----> 5\u001b[0m \u001b[38;5;28mprint\u001b[39m(tuple1)\n",
      "\u001b[1;31mNameError\u001b[0m: name 'tuple1' is not defined"
     ]
    }
   ],
   "source": [
    "# For removing item also first convert it to the list and then remove item ..... but we can delete the entire tuple \n",
    "\n",
    "del tuple1\n",
    "\n",
    "print(tuple1)\n"
   ]
  },
  {
   "cell_type": "markdown",
   "metadata": {},
   "source": [
    "Unpacking a tuple"
   ]
  },
  {
   "cell_type": "code",
   "execution_count": 9,
   "metadata": {},
   "outputs": [
    {
     "name": "stdout",
     "output_type": "stream",
     "text": [
      "Apple   Banana   Mango\n",
      "Apple   Banana   Mango\n",
      "['Apple', 'Banana', 'Mango', 'Apple', 'Banana', 'Mango']\n"
     ]
    }
   ],
   "source": [
    "fruits = (\"Apple\", \"Banana\", \"Mango\")\n",
    "\n",
    "#when the unpacked values are the same number as of in the tuple\n",
    "(red, yellow, orange) = fruits\n",
    "print(red, \" \", yellow, \" \", orange)\n",
    "\n",
    "# when the unpacked values are the not same number that is less than of that in the tuple\n",
    "\n",
    "fruits = (\"Apple\", \"Banana\", \"Mango\", \"Apple\", \"Banana\", \"Mango\",\"Apple\", \"Banana\", \"Mango\")\n",
    "(red, yellow, orange, *other) = fruits\n",
    "print(red, \" \", yellow, \" \", orange)\n",
    "print(other)"
   ]
  },
  {
   "cell_type": "code",
   "execution_count": null,
   "metadata": {},
   "outputs": [],
   "source": []
  }
 ],
 "metadata": {
  "kernelspec": {
   "display_name": "base",
   "language": "python",
   "name": "python3"
  },
  "language_info": {
   "codemirror_mode": {
    "name": "ipython",
    "version": 3
   },
   "file_extension": ".py",
   "mimetype": "text/x-python",
   "name": "python",
   "nbconvert_exporter": "python",
   "pygments_lexer": "ipython3",
   "version": "3.12.7"
  }
 },
 "nbformat": 4,
 "nbformat_minor": 2
}
