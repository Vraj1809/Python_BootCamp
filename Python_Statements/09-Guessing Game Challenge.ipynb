{
 "cells": [
  {
   "cell_type": "markdown",
   "metadata": {},
   "source": [
    "___\n",
    "\n",
    "<a href='https://www.udemy.com/user/joseportilla/'><img src='../Pierian_Data_Logo.png'/></a>\n",
    "___\n",
    "<center><em>Content Copyright by Pierian Data</em></center>"
   ]
  },
  {
   "cell_type": "markdown",
   "metadata": {},
   "source": [
    "# Guessing Game Challenge\n",
    "\n",
    "Let's use `while` loops to create a guessing game.\n",
    "\n",
    "The Challenge:\n",
    "\n",
    "Write a program that picks a random integer from 1 to 100, and has players guess the number. The rules are:\n",
    "\n",
    "1. If a player's guess is less than 1 or greater than 100, say \"OUT OF BOUNDS\"\n",
    "2. On a player's first turn, if their guess is\n",
    " * within 10 of the number, return \"WARM!\"\n",
    " * further than 10 away from the number, return \"COLD!\"\n",
    "3. On all subsequent turns, if a guess is \n",
    " * closer to the number than the previous guess return \"WARMER!\"\n",
    " * farther from the number than the previous guess, return \"COLDER!\"\n",
    "4. When the player's guess equals the number, tell them they've guessed correctly *and* how many guesses it took!\n",
    "\n",
    "You can try this from scratch, or follow the steps outlined below. A separate Solution notebook has been provided. Good luck!\n"
   ]
  },
  {
   "cell_type": "markdown",
   "metadata": {},
   "source": [
    "#### First, pick a random integer from 1 to 100 using the random module and assign it to a variable\n",
    "\n",
    "Note: `random.randint(a,b)` returns a random integer in range `[a, b]`, including both end points."
   ]
  },
  {
   "cell_type": "code",
   "execution_count": 3,
   "metadata": {
    "collapsed": true
   },
   "outputs": [
    {
     "data": {
      "text/plain": [
       "61"
      ]
     },
     "execution_count": 3,
     "metadata": {},
     "output_type": "execute_result"
    }
   ],
   "source": [
    "from random import randint\n",
    "import math\n",
    "RandomNumber = randint(1,100)\n",
    "RandomNumber"
   ]
  },
  {
   "cell_type": "markdown",
   "metadata": {},
   "source": [
    "#### Next, print an introduction to the game and explain the rules"
   ]
  },
  {
   "cell_type": "code",
   "execution_count": 13,
   "metadata": {
    "collapsed": true
   },
   "outputs": [
    {
     "name": "stdout",
     "output_type": "stream",
     "text": [
      "Hello, Vraj, let's play a game of guess\n",
      "The game is simple, you just have to take a guess from 1 to 100 \n",
      "In your first guess if your guessed number is atmost 10 numbers away then i would say \"WARM\" \n",
      "But if it is not farther then 10 numbers then i would say \"COLD\".\n",
      "After the first guess, for all of your subsequent guess,\n",
      "if your guessed number is closer to the number than previous guess then i would say \"WARMER\"\n",
      "And if it is farther then i would say \"COLDER\" and well if you have guessed correctly then you win!!!!!! \n"
     ]
    }
   ],
   "source": [
    "name = input(\"Please enter you name: \")\n",
    "print(f\"Hello, {name}, let's play a game of guess\")\n",
    "print(\"The game is simple, you just have to take a guess from 1 to 100 \\nIn your first guess if your guessed number is atmost 10 numbers away then i would say \\\"WARM\\\" \\nBut if it is not farther then 10 numbers then i would say \\\"COLD\\\".\\nAfter the first guess, for all of your subsequent guess,\\nif your guessed number is closer to the number than previous guess then i would say \\\"WARMER\\\"\\nAnd if it is farther then i would say \\\"COLDER\\\" and well if you have guessed correctly then you win!!!!!! \")"
   ]
  },
  {
   "cell_type": "markdown",
   "metadata": {},
   "source": [
    "#### Create a list to store guesses\n",
    "\n",
    "Hint: zero is a good placeholder value. It's useful because it evaluates to \"False\""
   ]
  },
  {
   "cell_type": "code",
   "execution_count": 10,
   "metadata": {
    "collapsed": true
   },
   "outputs": [],
   "source": [
    "guessFlag = 0\n",
    "prevGuess = 0"
   ]
  },
  {
   "cell_type": "markdown",
   "metadata": {},
   "source": [
    "#### Write a `while` loop that asks for a valid guess. Test it a few times to make sure it works."
   ]
  },
  {
   "cell_type": "code",
   "execution_count": 9,
   "metadata": {
    "collapsed": true
   },
   "outputs": [
    {
     "name": "stdout",
     "output_type": "stream",
     "text": [
      "In the zero\n",
      "WARM\n",
      "WARMER\n",
      "WARMER\n",
      "YOU HAVE WON THE GAME \n",
      "\n",
      "It took you 4 to win the game.\n"
     ]
    }
   ],
   "source": [
    "while True:\n",
    "    guess = int(input(\"Enter your guess: \"))\n",
    "    guessFlag += 1\n",
    "    if(guess == RandomNumber):\n",
    "        print(\"YOU HAVE WON THE GAME \\n\")\n",
    "        print(f\"It took you {guessFlag} to win the game.\")\n",
    "        break\n",
    "    elif(guessFlag == 1):\n",
    "        print(\"In the zero\")\n",
    "        if(abs(RandomNumber - guess) < 10):\n",
    "            print(\"WARM\")\n",
    "        else:\n",
    "            print(\"COLD\")\n",
    "    else:\n",
    "        if(abs(RandomNumber - guess) < abs(RandomNumber - prevGuess)):\n",
    "            print(\"WARMER\")\n",
    "        else:\n",
    "            print(\"COLDER\")\n",
    "    prevGuess = guess\n",
    "            \n",
    "        \n",
    "    "
   ]
  },
  {
   "cell_type": "markdown",
   "metadata": {},
   "source": [
    "That's it! You've just programmed your first game!\n",
    "\n",
    "In the next section we'll learn how to turn some of these repetitive actions into *functions* that can be called whenever we need them."
   ]
  },
  {
   "cell_type": "markdown",
   "metadata": {},
   "source": [
    "### Good Job!"
   ]
  }
 ],
 "metadata": {
  "kernelspec": {
   "display_name": "base",
   "language": "python",
   "name": "python3"
  },
  "language_info": {
   "codemirror_mode": {
    "name": "ipython",
    "version": 3
   },
   "file_extension": ".py",
   "mimetype": "text/x-python",
   "name": "python",
   "nbconvert_exporter": "python",
   "pygments_lexer": "ipython3",
   "version": "3.12.7"
  }
 },
 "nbformat": 4,
 "nbformat_minor": 2
}
