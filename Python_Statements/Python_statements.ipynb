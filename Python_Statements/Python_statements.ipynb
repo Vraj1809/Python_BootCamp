{
 "cells": [
  {
   "cell_type": "markdown",
   "metadata": {},
   "source": [
    "Conditional Statements"
   ]
  },
  {
   "cell_type": "code",
   "execution_count": null,
   "metadata": {},
   "outputs": [
    {
     "name": "stdout",
     "output_type": "stream",
     "text": [
      "Hello, kuki!\n"
     ]
    }
   ],
   "source": [
    "# Conditional Statements: if, else, elif statemmments in one code\n",
    "\n",
    "name = input(\"Enter your Name:\")\n",
    "\n",
    "if name.lower() == \"vraj\":\n",
    "    print(\"Hello, Vraj!\")\n",
    "elif name.lower() == \"vipul\":\n",
    "    print(\"Hello, Vipul!\")\n",
    "elif name.lower() == \"anuradha\":\n",
    "    print(\"Hello, Anuradha!\")\n",
    "else:\n",
    "    print(f\"Hello, {name}!\")"
   ]
  },
  {
   "cell_type": "markdown",
   "metadata": {},
   "source": [
    "for loop"
   ]
  },
  {
   "cell_type": "code",
   "execution_count": 9,
   "metadata": {},
   "outputs": [
    {
     "name": "stdout",
     "output_type": "stream",
     "text": [
      "1 2 3 4 5 6 \n",
      "\n",
      "1 2 3 4 5 6 \n",
      "\n",
      "My name is Vraj Desai"
     ]
    }
   ],
   "source": [
    "# for loop for list\n",
    "list2 = [1,2,3,4,5,6]\n",
    "\n",
    "for i in range(len(list2)):\n",
    "    print(list2[i], end=\" \")\n",
    "    \n",
    "print(\"\\n\")\n",
    "for i in list2:\n",
    "    print(i, end=\" \")\n",
    "\n",
    "# for loop for strings\n",
    "\n",
    "print(\"\\n\")\n",
    "for character in \"My name is Vraj Desai\":\n",
    "    print(character, end=\"\")\n"
   ]
  },
  {
   "cell_type": "markdown",
   "metadata": {},
   "source": [
    "Unpacking using for loop"
   ]
  },
  {
   "cell_type": "code",
   "execution_count": 21,
   "metadata": {},
   "outputs": [
    {
     "name": "stdout",
     "output_type": "stream",
     "text": [
      "Each tuple in the list:\n",
      "(1, 2, 3)\n",
      "(4, 5, 6)\n",
      "(7, 8, 9)\n",
      "Unpacking of the tuple:\n",
      "1\n",
      "4\n",
      "7\n"
     ]
    }
   ],
   "source": [
    "#for loop for unpacking the list that contain tuple\n",
    "list1 = [(1,2,3), (4,5,6), (7,8,9)]\n",
    "\n",
    "print(\"Each tuple in the list:\")\n",
    "for tup  in list1: \n",
    "    print(tup)\n",
    "\n",
    "print(\"Unpacking of the tuple:\")\n",
    "\n",
    "for (t1, t2, t3) in list1:\n",
    "    print(t1)"
   ]
  },
  {
   "cell_type": "markdown",
   "metadata": {},
   "source": [
    "While and While-else loop"
   ]
  },
  {
   "cell_type": "code",
   "execution_count": 24,
   "metadata": {},
   "outputs": [
    {
     "name": "stdout",
     "output_type": "stream",
     "text": [
      "The value is still above Zero and the value is 10\n",
      "The value is still above Zero and the value is 9\n",
      "The value is still above Zero and the value is 8\n",
      "The value is still above Zero and the value is 7\n",
      "The value is still above Zero and the value is 6\n",
      "The value is still above Zero and the value is 5\n",
      "The value is still above Zero and the value is 4\n",
      "The value is still above Zero and the value is 3\n",
      "The value is still above Zero and the value is 2\n",
      "The value is still above Zero and the value is 1\n",
      "\n",
      "\n",
      "The value is still above Zero and the value is 10\n",
      "The value is still above Zero and the value is 9\n",
      "The value is still above Zero and the value is 8\n",
      "The value is still above Zero and the value is 7\n",
      "The value is still above Zero and the value is 6\n",
      "The value is still above Zero and the value is 5\n",
      "The value is still above Zero and the value is 4\n",
      "The value is still above Zero and the value is 3\n",
      "The value is still above Zero and the value is 2\n",
      "The value is still above Zero and the value is 1\n",
      "The value is now below zero and it is 0\n"
     ]
    }
   ],
   "source": [
    "# while loop \n",
    "val = 10\n",
    "while val > 0:\n",
    "    print(f\"The value is still above Zero and the value is {val}\")\n",
    "    val-=1\n",
    "\n",
    "print(\"\\n\")\n",
    "# while loop with else\n",
    "val = 10\n",
    "while val > 0:\n",
    "    print(f\"The value is still above Zero and the value is {val}\")\n",
    "    val-=1\n",
    "else:\n",
    "    print(f\"The value is now below zero and it is {val}\")"
   ]
  },
  {
   "cell_type": "markdown",
   "metadata": {},
   "source": [
    "Break and Continue"
   ]
  },
  {
   "cell_type": "code",
   "execution_count": 29,
   "metadata": {},
   "outputs": [],
   "source": [
    "# break and continue statments\n",
    "# a program where if the value got is even then it is ignored but if it is not then it is printed but if the value is 5 or 3 then the loop is broke\n",
    "\n",
    "#using while\n",
    "while True:\n",
    "    val = int(input(\"Enter a number: \"))\n",
    "    if val == 5 or val == 3:\n",
    "        break\n",
    "    elif val % 2 == 0:\n",
    "        continue\n",
    "    print(val)"
   ]
  },
  {
   "cell_type": "markdown",
   "metadata": {},
   "source": [
    "Range Operator"
   ]
  },
  {
   "cell_type": "code",
   "execution_count": 7,
   "metadata": {},
   "outputs": [
    {
     "name": "stdout",
     "output_type": "stream",
     "text": [
      "Normal list: [0, 1, 2, 3, 4, 5, 6, 7, 8, 9] \n",
      "\n",
      "range with step size as 2: [0, 2, 4, 6, 8, 10]\n",
      "range with negative step size: []\n"
     ]
    }
   ],
   "source": [
    "# range operator - it is a generator function so need to use list with it, generator means it would only generate info and would not be need to save it to the memmory\n",
    "\n",
    "print(f\"Normal list: {list(range(0,10))} \\n\")\n",
    "\n",
    "print(f\"range with step size as 2: {list(range(0,11,2))}\")\n",
    "\n",
    "print(f\"range with negative step size: {list(range(0,11,-1))}\")"
   ]
  },
  {
   "cell_type": "markdown",
   "metadata": {},
   "source": [
    "enumerate and zip operator"
   ]
  },
  {
   "cell_type": "code",
   "execution_count": 13,
   "metadata": {},
   "outputs": [
    {
     "name": "stdout",
     "output_type": "stream",
     "text": [
      "index = 0, character = V\n",
      "index = 1, character = r\n",
      "index = 2, character = a\n",
      "index = 3, character = j\n",
      "index = 4, character =  \n",
      "index = 5, character = D\n",
      "index = 6, character = e\n",
      "index = 7, character = s\n",
      "index = 8, character = a\n",
      "index = 9, character = i\n",
      "\n",
      "\n",
      "Using Enumerate Function\n",
      "index = 0, character = V\n",
      "index = 1, character = r\n",
      "index = 2, character = a\n",
      "index = 3, character = j\n",
      "index = 4, character =  \n",
      "index = 5, character = D\n",
      "index = 6, character = e\n",
      "index = 7, character = s\n",
      "index = 8, character = a\n",
      "index = 9, character = i\n"
     ]
    }
   ],
   "source": [
    "\n",
    "#enumerate is used when we don't have to worry about index or looop count\n",
    "index = 0\n",
    "for char in \"Vraj Desai\":\n",
    "    print(f\"index = {index}, character = {char}\")\n",
    "    index += 1\n",
    "\n",
    "print(\"\\n\\nUsing Enumerate Function\")\n",
    "# without index count\n",
    "for index, char in enumerate(\"Vraj Desai\"):\n",
    "    print(f\"index = {index}, character = {char}\")\n"
   ]
  },
  {
   "cell_type": "code",
   "execution_count": 15,
   "metadata": {},
   "outputs": [
    {
     "name": "stdout",
     "output_type": "stream",
     "text": [
      "[(0, 'V'), (1, 'r'), (2, 'a'), (3, 'j'), (4, ' '), (5, 'D'), (6, 'e'), (7, 's'), (8, 'a'), (9, 'i')]\n"
     ]
    }
   ],
   "source": [
    "# normally if we use enumerate wih the list and see what's it returning than it contains tuples so it would the same scenario as we have seen of tuple unpacking from the list of tuple\n",
    "print(list(enumerate(\"Vraj Desai\")))"
   ]
  },
  {
   "cell_type": "code",
   "execution_count": 23,
   "metadata": {},
   "outputs": [
    {
     "name": "stdout",
     "output_type": "stream",
     "text": [
      "With equal size lists: [(1, 'A'), (3, 'B'), (5, 'C'), (7, 'D'), (9, 'E')]\n",
      "With different size lists: [(1, 'A'), (3, 'B'), (7, 'C'), (9, 'D')]\n"
     ]
    }
   ],
   "source": [
    "#zip operator- used to make list of tuples, by zipping up the lists given in the operator, so basically it would zip to tuples and then when used with list it would makke list of tuples\n",
    "\n",
    "list1 = [1,3,5,7,9]\n",
    "list2 = [\"A\",\"B\",\"C\",\"D\",\"E\"]\n",
    "\n",
    "print(f\"With equal size lists: {list(zip(list1, list2))}\")\n",
    "\n",
    "#if the list given are not of the same size then the smaller list will be considered for the length and the items of bigger list after the size of smaller list would be ignored \n",
    "list1 = [1,3,7,9]\n",
    "list2 = [\"A\",\"B\",\"C\",\"D\",\"E\"]\n",
    "\n",
    "print(f\"With different size lists: {list(zip(list1, list2))}\") "
   ]
  },
  {
   "cell_type": "markdown",
   "metadata": {},
   "source": [
    "Combining both zip and enumerate function"
   ]
  },
  {
   "cell_type": "code",
   "execution_count": 24,
   "metadata": {},
   "outputs": [
    {
     "name": "stdout",
     "output_type": "stream",
     "text": [
      "Hello, My name is 0 ('Vraj', 'Desai')\n",
      "Hello, My name is 1 ('Chinmay', 'Naik')\n",
      "Hello, My name is 2 ('Maharshi', 'Bhagatji')\n",
      "Hello, My name is 3 ('Jeet', 'Prajapati')\n",
      "Hello, My name is 4 ('Vatsal', 'Gnadhi')\n",
      "Hello, My name is 5 ('Nikunj', 'Detroja')\n"
     ]
    }
   ],
   "source": [
    "fname = [\"Vraj\", \"Chinmay\", \"Maharshi\", \"Jeet\", \"Vatsal\", \"Nikunj\"]\n",
    "lname = [\"Desai\", \"Naik\", \"Bhagatji\", \"Prajapati\", \"Gnadhi\", \"Detroja\"]\n",
    "\n",
    "fullname = list(zip(fname, lname))\n",
    "\n",
    "for fname, lname in enumerate(fullname):\n",
    "    print(f\"Hello, My name is {fname} {lname}\")"
   ]
  },
  {
   "cell_type": "markdown",
   "metadata": {},
   "source": [
    "random liibrary"
   ]
  },
  {
   "cell_type": "code",
   "execution_count": 28,
   "metadata": {},
   "outputs": [
    {
     "name": "stdout",
     "output_type": "stream",
     "text": [
      "List before using shuffle: [1, 9, 3, 7]\n",
      "List  after using shuffle: [3, 9, 1, 7]\n"
     ]
    },
    {
     "ename": "TypeError",
     "evalue": "object of type 'int' has no len()",
     "output_type": "error",
     "traceback": [
      "\u001b[1;31m---------------------------------------------------------------------------\u001b[0m",
      "\u001b[1;31mTypeError\u001b[0m                                 Traceback (most recent call last)",
      "Cell \u001b[1;32mIn[28], line 7\u001b[0m\n\u001b[0;32m      4\u001b[0m shuffle(list1)\n\u001b[0;32m      5\u001b[0m \u001b[38;5;28mprint\u001b[39m(\u001b[38;5;124mf\u001b[39m\u001b[38;5;124m\"\u001b[39m\u001b[38;5;124mList  after using shuffle: \u001b[39m\u001b[38;5;132;01m{\u001b[39;00mlist1\u001b[38;5;132;01m}\u001b[39;00m\u001b[38;5;124m\"\u001b[39m)\n\u001b[1;32m----> 7\u001b[0m shuffle(fname)\n",
      "File \u001b[1;32mc:\\Users\\VrajDesai\\anaconda3\\Lib\\random.py:354\u001b[0m, in \u001b[0;36mRandom.shuffle\u001b[1;34m(self, x)\u001b[0m\n\u001b[0;32m    351\u001b[0m \u001b[38;5;250m\u001b[39m\u001b[38;5;124;03m\"\"\"Shuffle list x in place, and return None.\"\"\"\u001b[39;00m\n\u001b[0;32m    353\u001b[0m randbelow \u001b[38;5;241m=\u001b[39m \u001b[38;5;28mself\u001b[39m\u001b[38;5;241m.\u001b[39m_randbelow\n\u001b[1;32m--> 354\u001b[0m \u001b[38;5;28;01mfor\u001b[39;00m i \u001b[38;5;129;01min\u001b[39;00m \u001b[38;5;28mreversed\u001b[39m(\u001b[38;5;28mrange\u001b[39m(\u001b[38;5;241m1\u001b[39m, \u001b[38;5;28mlen\u001b[39m(x))):\n\u001b[0;32m    355\u001b[0m     \u001b[38;5;66;03m# pick an element in x[:i+1] with which to exchange x[i]\u001b[39;00m\n\u001b[0;32m    356\u001b[0m     j \u001b[38;5;241m=\u001b[39m randbelow(i \u001b[38;5;241m+\u001b[39m \u001b[38;5;241m1\u001b[39m)\n\u001b[0;32m    357\u001b[0m     x[i], x[j] \u001b[38;5;241m=\u001b[39m x[j], x[i]\n",
      "\u001b[1;31mTypeError\u001b[0m: object of type 'int' has no len()"
     ]
    }
   ],
   "source": [
    "# shuffle- only works on the integer value list\n",
    "from random import shuffle\n",
    "print(f\"List before using shuffle: {list1}\")\n",
    "shuffle(list1)\n",
    "print(f\"List  after using shuffle: {list1}\")\n",
    "\n",
    "shuffle(fname)"
   ]
  },
  {
   "cell_type": "code",
   "execution_count": 31,
   "metadata": {},
   "outputs": [
    {
     "data": {
      "text/plain": [
       "86"
      ]
     },
     "execution_count": 31,
     "metadata": {},
     "output_type": "execute_result"
    }
   ],
   "source": [
    "#randint\n",
    "\n",
    "from random import randint\n",
    "\n",
    "randint(0,100) #unlike range, randint would include 100 where as in range it was not included"
   ]
  },
  {
   "cell_type": "markdown",
   "metadata": {},
   "source": [
    "List Comprehenssion"
   ]
  },
  {
   "cell_type": "code",
   "execution_count": 37,
   "metadata": {},
   "outputs": [
    {
     "name": "stdout",
     "output_type": "stream",
     "text": [
      "[0, 2, 4, 6, 8]\n",
      "[0, 1, 4, 9, 16, 25, 36, 49, 64, 81, 100]\n",
      "[32.0, -40.0, 53.6, 122.0, 212.0]\n"
     ]
    }
   ],
   "source": [
    "#check for even numbers in the range\n",
    "list = [x for x in range(10) if x %2 == 0]\n",
    "print(list)\n",
    "\n",
    "#make in a list of squares of the nuumbers in the range\n",
    "list = [x*x for x in range(11)]\n",
    "print(list)\n",
    "\n",
    "#converting celsius to ferehnhiet\n",
    "\n",
    "tempCel = [0, -40, 12, 50, 100]\n",
    "\n",
    "tempFeren = [((9/5)*temp + 32) for temp in tempCel]\n",
    "print(tempFeren)"
   ]
  },
  {
   "cell_type": "code",
   "execution_count": 39,
   "metadata": {},
   "outputs": [
    {
     "name": "stdout",
     "output_type": "stream",
     "text": [
      "[1.0, 8.0, 27.0, 64.0, 125.0, 216.0, 343.0, 512.0, 729.0, 1000.0]\n"
     ]
    }
   ],
   "source": [
    "#nested list comprehenssion\n",
    "#finding the cube of the square root of the numbers in the list\n",
    "\n",
    "import math\n",
    "list = [1, 4, 9, 16, 25, 36, 49, 64, 81, 100]\n",
    "\n",
    "cube = [x*x*x for x in [math.sqrt(x) for x in list]]\n",
    "\n",
    "print(cube)"
   ]
  },
  {
   "cell_type": "code",
   "execution_count": null,
   "metadata": {},
   "outputs": [],
   "source": []
  }
 ],
 "metadata": {
  "kernelspec": {
   "display_name": "base",
   "language": "python",
   "name": "python3"
  },
  "language_info": {
   "codemirror_mode": {
    "name": "ipython",
    "version": 3
   },
   "file_extension": ".py",
   "mimetype": "text/x-python",
   "name": "python",
   "nbconvert_exporter": "python",
   "pygments_lexer": "ipython3",
   "version": "3.12.7"
  }
 },
 "nbformat": 4,
 "nbformat_minor": 2
}
